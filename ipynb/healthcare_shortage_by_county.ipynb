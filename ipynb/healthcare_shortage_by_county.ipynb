{
 "cells": [
  {
   "cell_type": "code",
   "execution_count": 13,
   "id": "028adcd7-6052-4482-9efa-526d542c91a9",
   "metadata": {},
   "outputs": [],
   "source": [
    "import pandas as pd\n",
    "import geopandas as gpd\n",
    "import numpy as np"
   ]
  },
  {
   "cell_type": "code",
   "execution_count": 14,
   "id": "3dcb0fbb-d23c-4040-8e3a-e8d843b1790f",
   "metadata": {},
   "outputs": [],
   "source": [
    "shortage_tracts_gdf = gpd.read_file('./data/shortage_tracts_gdf_1pcp220.geojson')\n",
    "counties_gdf = gpd.read_file('./data/32counties.geojson')\n",
    "counties_gdf = counties_gdf.to_crs(shortage_tracts_gdf.crs)\n",
    "shortage_tracts_gdf[\"COUNTYFP\"] = \"36\" + shortage_tracts_gdf[\"COUNTYFP\"]"
   ]
  },
  {
   "cell_type": "code",
   "execution_count": 15,
   "id": "ce99d52e-a860-43bc-866a-06aa3df9cdf8",
   "metadata": {},
   "outputs": [],
   "source": [
    "# Step 1: Group by 'COUNTYFP' and sum multiple columns\n",
    "columns_to_sum = ['unserved_medicaid', 'unserved_commercial']\n",
    "summed_data = shortage_tracts_gdf.groupby('COUNTYFP')[columns_to_sum].sum().reset_index()\n",
    "\n",
    "# Step 2: Merge the summed data with 'counties_gdf'\n",
    "merged_gdf = counties_gdf.merge(summed_data, how='left', left_on='FIPS_CODE', right_on='COUNTYFP')\n",
    "merged_gdf = merged_gdf[[\n",
    "    'NAME', 'Shape_Area', 'geometry', 'FIPS_CODE', 'unserved_medicaid', 'unserved_commercial'\n",
    "]]\n",
    "merged_gdf.rename(columns={'FIPS_CODE': 'id'}, inplace=True)\n",
    "\n",
    "\n",
    "# Caclculate for unserved population / km2\n",
    "merged_gdf['unserved medicaid enrollees / km2'] = (merged_gdf['unserved_medicaid'] / merged_gdf['Shape_Area'] * 1000000).round(2)\n",
    "merged_gdf['unserved commercial enrollees / km2'] = (merged_gdf['unserved_commercial'] / merged_gdf['Shape_Area'] * 1000000).round(2)\n",
    "merged_gdf['unserved population / km2'] = merged_gdf['unserved medicaid enrollees / km2'] + merged_gdf['unserved commercial enrollees / km2']"
   ]
  },
  {
   "cell_type": "code",
   "execution_count": 16,
   "id": "6a81aec8-3b7b-4b34-abf6-228e66b2c722",
   "metadata": {},
   "outputs": [],
   "source": [
    "# Reproject the GeoDataFrame to EPSG:4326\n",
    "merged_gdf = merged_gdf.to_crs(epsg=4326)\n",
    "\n",
    "# Replace NaN with 0\n",
    "merged_gdf = merged_gdf.fillna(0)"
   ]
  },
  {
   "cell_type": "code",
   "execution_count": 17,
   "id": "e88e32e3-59ea-4550-873e-4de1917d523e",
   "metadata": {},
   "outputs": [],
   "source": [
    "merged_gdf.to_file('shortage_counties.geojson', driver='GeoJSON')"
   ]
  },
  {
   "cell_type": "code",
   "execution_count": 19,
   "id": "8dce3dd3-970f-4d48-b7bb-8e56ad1c7253",
   "metadata": {},
   "outputs": [
    {
     "name": "stdout",
     "output_type": "stream",
     "text": [
      "[{'name': 'unserved medicaid enrollees / km2', 'min': 0.0, 'max': 1785.49}, {'name': 'unserved commercial enrollees / km2', 'min': 0.0, 'max': 461.61}, {'name': 'unserved population / km2', 'min': 0.0, 'max': 2220.16}]\n"
     ]
    }
   ],
   "source": [
    "# Get list of {min:x, max:y, name:z} object\n",
    "columns = [\n",
    "    \"unserved medicaid enrollees / km2\", \n",
    "    \"unserved commercial enrollees / km2\", \n",
    "    \"unserved population / km2\"\n",
    "]\n",
    "\n",
    "# Generate the list of dictionaries\n",
    "stats_list = [\n",
    "    {\n",
    "        'name': col,\n",
    "        'min': merged_gdf[col].min(),\n",
    "        'max': merged_gdf[col].max()\n",
    "    } \n",
    "    for col in columns\n",
    "]\n",
    "\n",
    "# Display the resulting list of dictionaries\n",
    "print(stats_list)"
   ]
  },
  {
   "cell_type": "code",
   "execution_count": 21,
   "id": "8ede7be2-fd31-43cf-a976-38ae371d1820",
   "metadata": {},
   "outputs": [
    {
     "name": "stdout",
     "output_type": "stream",
     "text": [
      "JSON data has been written to 32counties_min_max.json\n"
     ]
    }
   ],
   "source": [
    "import json\n",
    "json_data = json.dumps(stats_list)\n",
    "\n",
    "# Set the filename where you want to store the JSON data\n",
    "filename = '32counties_min_max.json'\n",
    "\n",
    "# Write the JSON string to a file\n",
    "with open(filename, 'w') as file:\n",
    "    file.write(json_data)\n",
    "\n",
    "print(f\"JSON data has been written to {filename}\")"
   ]
  },
  {
   "cell_type": "code",
   "execution_count": null,
   "id": "107e7aa1-f8f4-4a6e-8547-ab4890ee740d",
   "metadata": {},
   "outputs": [],
   "source": []
  }
 ],
 "metadata": {
  "kernelspec": {
   "display_name": "Python 3 (ipykernel)",
   "language": "python",
   "name": "python3"
  },
  "language_info": {
   "codemirror_mode": {
    "name": "ipython",
    "version": 3
   },
   "file_extension": ".py",
   "mimetype": "text/x-python",
   "name": "python",
   "nbconvert_exporter": "python",
   "pygments_lexer": "ipython3",
   "version": "3.11.5"
  }
 },
 "nbformat": 4,
 "nbformat_minor": 5
}
