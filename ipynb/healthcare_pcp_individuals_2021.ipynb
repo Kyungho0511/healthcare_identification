{
 "cells": [
  {
   "cell_type": "code",
   "execution_count": 2,
   "id": "ac12a513-a820-42bf-b85e-460da557b052",
   "metadata": {},
   "outputs": [],
   "source": [
    "import pandas as pd\n",
    "import numpy as np"
   ]
  },
  {
   "cell_type": "code",
   "execution_count": 3,
   "id": "d4dcb763-53e9-4e08-b780-475d990d4e17",
   "metadata": {},
   "outputs": [
    {
     "name": "stderr",
     "output_type": "stream",
     "text": [
      "C:\\Users\\kl3539\\AppData\\Local\\Temp\\ipykernel_40224\\1027244030.py:2: DtypeWarning: Columns (3,58,60,61,62,63,64,70,71) have mixed types. Specify dtype option on import or set low_memory=False.\n",
      "  df_individual_provider = pd.read_csv(file_path_individual_provider)\n"
     ]
    }
   ],
   "source": [
    "file_path_individual_provider = './data/Individual_Provider_Network_Data__2021_Quarter_1.csv'\n",
    "df_individual_provider = pd.read_csv(file_path_individual_provider)"
   ]
  },
  {
   "cell_type": "code",
   "execution_count": 4,
   "id": "70a49458-5ef9-4228-9d1f-bbe08700b09f",
   "metadata": {},
   "outputs": [
    {
     "name": "stdout",
     "output_type": "stream",
     "text": [
      "Index(['Last Name', 'First Name', 'National Provider Identifier',\n",
      "       'Medicaid Provider Identification Number', 'Site Name', 'Room or Suite',\n",
      "       'Street Address', 'Town/City', 'County', 'Borough/County Code',\n",
      "       ...\n",
      "       'NYSoH Medical Network  8 Panel Size',\n",
      "       'NYSoH Medical Network  9 Panel Size', 'SIP-PL Panel Size',\n",
      "       'FIDA IDD Panel Size', 'HARP Panel Size', 'HIV SNP Panel Size',\n",
      "       'Site NPI', 'Plan Name', 'PNDS ID', 'Quarter/Year'],\n",
      "      dtype='object', length=133)\n"
     ]
    }
   ],
   "source": [
    "print(df_individual_provider.columns)"
   ]
  },
  {
   "cell_type": "code",
   "execution_count": 6,
   "id": "9d9b579c-b443-46a7-bb07-2b0a218874ad",
   "metadata": {},
   "outputs": [
    {
     "name": "stdout",
     "output_type": "stream",
     "text": [
      "pcp:(1561337, 14)\n",
      "pcp_medicaid: (130672, 14)\n",
      "pcp_commercial: (1353388, 14)\n"
     ]
    }
   ],
   "source": [
    "# filter primary care providers (primary designation code 1 or 3)\n",
    "pcp_filter = (df_individual_provider[\"Primary designation\"] == 1) | (df_individual_provider[\"Primary designation\"] == 3)\n",
    "df_pcp = df_individual_provider.loc[pcp_filter]\n",
    "\n",
    "# filter primary care providers who serve Medicaid Enrollees\n",
    "pcp_medicaid_filter = df_pcp[\"Medicaid Provider Indicator\"] == 1\n",
    "df_pcp_medicaid = df_pcp.loc[pcp_medicaid_filter]\n",
    "\n",
    "# filter primary care providers who serve Commercial Non-MCO Medical plan Enrollees\n",
    "indicator_columns = [\n",
    "    \"Commercial Provider Indicator\",\n",
    "    \"Commercial Non-MCO Medical Indicator 1\",\n",
    "    \"Commercial Non-MCO Medical Indicator 2\",\n",
    "    \"Commercial Non-MCO Medical Indicator 3\",\n",
    "    \"Commercial Non-MCO Medical Indicator 4\",\n",
    "    \"Commercial Non-MCO Medical Indicator 5\",\n",
    "    \"Commercial Non-MCO Medical Indicator 6\",\n",
    "    \"Commercial Non-MCO Medical Indicator 7\",\n",
    "    \"Commercial Non-MCO Medical Indicator 8\"\n",
    "]\n",
    "pcp_commercial_filter = pd.Series([False] * len(df_pcp), index=df_pcp.index)\n",
    "for column in indicator_columns:\n",
    "    pcp_commercial_filter |= (df_pcp[column] == 1)\n",
    "df_pcp_commercial = df_pcp.loc[pcp_commercial_filter]\n",
    "\n",
    "# Get the columns to keep \n",
    "columns_to_keep = ['National Provider Identifier', 'Last Name', 'First Name', 'Site Name', 'Street Address', 'Town/City', 'County', 'Borough/County Code', 'Latitude', 'Longitude', 'Primary designation', 'Provider Type', 'Primary Specialty', 'Secondary Specialty']\n",
    "df_pcp = df_pcp[columns_to_keep]\n",
    "df_pcp_medicaid = df_pcp_medicaid[columns_to_keep]\n",
    "df_pcp_commercial = df_pcp_commercial[columns_to_keep]\n",
    "\n",
    "# print shapes of pcp by serving insurance types\n",
    "print(f\"pcp:{df_pcp.shape}\")\n",
    "print(f\"pcp_medicaid: {df_pcp_medicaid.shape}\")\n",
    "print(f\"pcp_commercial: {df_pcp_commercial.shape}\")"
   ]
  },
  {
   "cell_type": "code",
   "execution_count": 7,
   "id": "d37269bc-5222-4caa-a4ee-d39e48151a5d",
   "metadata": {},
   "outputs": [],
   "source": [
    "# export to csv files\n",
    "df_pcp.to_csv('pcp_2021.csv', index=False)\n",
    "df_pcp_medicaid.to_csv('pcp_medicaid_2021.csv', index=False)\n",
    "df_pcp_commercial.to_csv('pcp_commercial_2021.csv', index=False)"
   ]
  },
  {
   "cell_type": "code",
   "execution_count": null,
   "id": "14f7dcc3-88ad-46ad-82e8-cc48090e0db6",
   "metadata": {},
   "outputs": [],
   "source": []
  }
 ],
 "metadata": {
  "kernelspec": {
   "display_name": "Python 3 (ipykernel)",
   "language": "python",
   "name": "python3"
  },
  "language_info": {
   "codemirror_mode": {
    "name": "ipython",
    "version": 3
   },
   "file_extension": ".py",
   "mimetype": "text/x-python",
   "name": "python",
   "nbconvert_exporter": "python",
   "pygments_lexer": "ipython3",
   "version": "3.11.5"
  }
 },
 "nbformat": 4,
 "nbformat_minor": 5
}
