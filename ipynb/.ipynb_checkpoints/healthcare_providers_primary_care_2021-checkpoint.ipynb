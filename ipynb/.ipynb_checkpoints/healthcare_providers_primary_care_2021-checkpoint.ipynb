{
 "cells": [
  {
   "cell_type": "code",
   "execution_count": 1,
   "id": "ac12a513-a820-42bf-b85e-460da557b052",
   "metadata": {},
   "outputs": [],
   "source": [
    "import pandas as pd\n",
    "import numpy as np"
   ]
  },
  {
   "cell_type": "code",
   "execution_count": 61,
   "id": "d4dcb763-53e9-4e08-b780-475d990d4e17",
   "metadata": {},
   "outputs": [
    {
     "name": "stderr",
     "output_type": "stream",
     "text": [
      "C:\\Users\\kl3539\\AppData\\Local\\Temp\\ipykernel_17336\\350996733.py:3: DtypeWarning: Columns (14,15,16,80) have mixed types. Specify dtype option on import or set low_memory=False.\n",
      "  df_institutional_provider = pd.read_csv(file_path_institutional_provider)\n",
      "C:\\Users\\kl3539\\AppData\\Local\\Temp\\ipykernel_17336\\350996733.py:4: DtypeWarning: Columns (3,58,60,61,62,63,64,70,71) have mixed types. Specify dtype option on import or set low_memory=False.\n",
      "  df_individual_provider = pd.read_csv(file_path_individual_provider)\n"
     ]
    }
   ],
   "source": [
    "file_path_institutional_provider = './data/Institutional_Provider_Network_Data__2021_Quarter_1.csv'\n",
    "file_path_individual_provider = './data/Individual_Provider_Network_Data__2021_Quarter_1.csv'\n",
    "df_institutional_provider = pd.read_csv(file_path_institutional_provider)\n",
    "df_individual_provider = pd.read_csv(file_path_individual_provider)"
   ]
  },
  {
   "cell_type": "code",
   "execution_count": null,
   "id": "9d9b579c-b443-46a7-bb07-2b0a218874ad",
   "metadata": {},
   "outputs": [],
   "source": [
    "# filter primary care providers (primary designation code 1 or 3)\n",
    "pcp_filter = (df_individual_provider[\"Primary designation\"] == 1) | (df_individual_provider[\"Primary designation\"] == 3)\n",
    "df_pcp = df_individual_provider.loc[pcp_filter]\n",
    "print(df_pcp.shape)\n",
    "\n",
    "# filter primary care providers who serve Medicaid Enrollees\n",
    "pcp_medicaid_filter = df_pcp[\"Medicaid Provider Indicator\"] == 1\n",
    "print(df_pcp.loc[pcp_medicaid_filter][\"Medicaid Provider Indicator\"].count())\n",
    "\n",
    "# filter primary care providers who serve Commercial plan Enrollees\n",
    "pcp_commercial_filter = df_pcp[\"Commercial Non-MCO Medical Indicator 1\"] == 1\n"
   ]
  },
  {
   "cell_type": "code",
   "execution_count": 71,
   "id": "8d1d7a0c-2726-4868-b0bb-da6744a31b2c",
   "metadata": {
    "scrolled": true
   },
   "outputs": [
    {
     "name": "stdout",
     "output_type": "stream",
     "text": [
      "['Last Name', 'First Name', 'National Provider Identifier', 'Medicaid Provider Identification Number', 'Site Name', 'Room or Suite', 'Street Address', 'Town/City', 'County', 'Borough/County Code', 'State', 'Zip Code', 'Latitude', 'Longitude', 'Area code', 'Phone number', 'Wheel Chair Accessibility', 'Primary designation', 'Provider Type', 'Primary Specialty', 'Secondary Specialty', 'Board Status - Primary Specialty', 'Board Status - Secondary Specialty', 'Provider’s Gender', 'Commercial Provider Indicator', 'Medicaid Provider Indicator', 'Child Health Plus (CHP) Provider Indicator', 'HARP Indicator', 'Medicaid Advantage Indicator', 'Partial CAPS Indicator', 'MAP Indicator', 'PACE Indicator', 'FIDA Indicator', 'FIDAIDD Indicator', 'HIVSNP Indicator', 'SIP-PL Indicator', 'NYSOH Standard Essential Health Plan (EP) Indicator/Basic Health Program Indicator', 'NYSOH EP Plus Adult Vision/Dental Indicator/Basic Health Program Adult Indicator', 'Commercial Non-MCO Medical Indicator 1', 'Commercial Non-MCO Medical Indicator 2', 'Commercial Non-MCO Medical Indicator 3', 'Commercial Non-MCO Medical Indicator 4', 'Commercial Non-MCO Medical Indicator 5', 'Commercial Non-MCO Medical Indicator 6', 'Commercial Non-MCO Medical Indicator 7', 'Commercial Non-MCO Medical Indicator 8', 'Commercial Non-MCO Vision Indicator 1', 'Commercial Non-MCO Vision Indicator 2', 'Commercial Non-MCO Vision Indicator 3', 'Commercial Non-MCO Vision Indicator 4', 'Commercial Non-MCO Vision Indicator 5', 'Commercial Non-MCO Vision Indicator 6', 'Commercial Non-MCO Dental Indicator 1', 'Commercial Non-MCO Dental Indicator 2', 'Commercial Non-MCO Dental Indicator 3', 'Commercial Non-MCO Dental Indicator 4', 'Commercial Non-MCO Dental Indicator 5', 'Hospital Affiliation (HA) Operating Certificate (OPCERT) #1', 'HA Permanent Facility Identifier (PFI) #1', 'Hospital Affiliation (HA) Operating Certificate (OPCERT) #2', 'HA Permanent Facility Identifier (PFI) #2', 'Hospital Affiliation (HA) Operating Certificate (OPCERT) #3', 'HA Permanent Facility Identifier (PFI) #3', 'Provider Location Facility Operating Number', 'Provider Location Permanent Facility Identifier (PFI)', 'Language 1', 'Language 2', 'Language 3', 'Language 4', 'Language 5', 'Language 6', 'Language 7', 'NYSOH Medical Network 1 Indicator', 'NYSOH Medical Network 2 Indicator', 'NYSOH Medical Network 3 Indicator', 'NYSOH Medical Network 4 Indicator', 'NYSOH Medical Network 5 Indicator', 'NYSOH Medical Network 6 Indicator', 'NYSOH Medical Network 7 Indicator', 'NYSOH Medical Network 8 Indicator', 'NYSOH Medical Network 9 Indicator', 'NYSOH Dental Network 1 Indicator', 'NYSOH Dental Network 2 Indicator', 'NYSOH Dental Network 3 Indicator', 'NYSOH Dental Network 4 Indicator', 'Commercial Panel Status', 'Medicaid Panel Status', 'CHP Panel Status', 'Medicaid Advantage Panel Status', 'Partial CAPS Panel Status', 'MAP Panel Status', 'PACE Panel Status', 'NYSoH Standard Essential Plan (EP) Panel Status', 'NYSoH EP Plus Adult Vision/Dental Panel Status', 'NYSoH Medical Network 1 Panel Status', 'NYSoH Medical Network 2 Panel Status', 'NYSoH Medical Network  3 Panel Status', 'NYSoH Medical Network  4 Panel Status', 'NYSoH Medical Network  5 Panel Status', 'NYSoH Medical Network  6 Panel Status', 'NYSoH Medical Network  7 Panel Status', 'NYSoH Medical Network  8 Panel Status', 'NYSoH Medical Network  9 Panel Status', 'SIP-PL Panel Status', 'FIDA IDD Panel Status', 'HARP Panel Status', 'HIV SNP Panel Status', 'Commercial Panel Size', 'Medicaid Panel Size', 'CHP Panel Size', 'Medicaid Advantage Panel Size', 'Partial CAPS Panel Size', 'MAP Panel Size', 'PACE Panel Size', 'NYSoH Standard Essential Plan (EP) Panel Size', 'NYSoH EP Plus Adult Vision/Dental Panel Size', 'NYSoH Medical Network 1 Panel Size', 'NYSoH Medical Network 2 Panel Size', 'NYSoH Medical Network  3 Panel Size', 'NYSoH Medical Network  4 Panel Size', 'NYSoH Medical Network  5 Panel Size', 'NYSoH Medical Network  6 Panel Size', 'NYSoH Medical Network  7 Panel Size', 'NYSoH Medical Network  8 Panel Size', 'NYSoH Medical Network  9 Panel Size', 'SIP-PL Panel Size', 'FIDA IDD Panel Size', 'HARP Panel Size', 'HIV SNP Panel Size', 'Site NPI', 'Plan Name', 'PNDS ID', 'Quarter/Year']\n"
     ]
    }
   ],
   "source": [
    "print(df_individual_provider.columns.tolist())"
   ]
  },
  {
   "cell_type": "code",
   "execution_count": null,
   "id": "29a02f36-2a68-40d9-81f0-8bc1a41250b3",
   "metadata": {},
   "outputs": [],
   "source": [
    "print(df_pcp.sample(3))"
   ]
  },
  {
   "cell_type": "code",
   "execution_count": null,
   "id": "410af3cb-12a9-42ed-9bfc-8a7f55512cf8",
   "metadata": {},
   "outputs": [],
   "source": []
  }
 ],
 "metadata": {
  "kernelspec": {
   "display_name": "Python 3 (ipykernel)",
   "language": "python",
   "name": "python3"
  },
  "language_info": {
   "codemirror_mode": {
    "name": "ipython",
    "version": 3
   },
   "file_extension": ".py",
   "mimetype": "text/x-python",
   "name": "python",
   "nbconvert_exporter": "python",
   "pygments_lexer": "ipython3",
   "version": "3.11.5"
  }
 },
 "nbformat": 4,
 "nbformat_minor": 5
}
