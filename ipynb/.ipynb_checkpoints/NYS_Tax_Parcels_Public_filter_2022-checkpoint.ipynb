{
 "cells": [
  {
   "cell_type": "code",
   "execution_count": 30,
   "id": "12dafe6b-4514-4ba5-be36-b2e9b7604ca3",
   "metadata": {},
   "outputs": [],
   "source": [
    "import numpy as np\n",
    "import pandas as pd\n",
    "import geopandas as gpd"
   ]
  },
  {
   "cell_type": "code",
   "execution_count": 4,
   "id": "2a3b1d58-8746-4c34-a39d-ca3b420797f6",
   "metadata": {},
   "outputs": [],
   "source": [
    "file_path = './data/NYS_2022_Tax_Parcels_Public.geojson'\n",
    "gdf = gpd.read_file(file_path)"
   ]
  },
  {
   "cell_type": "code",
   "execution_count": 36,
   "id": "e80243a6-3db5-44a6-91e4-b13af20a4f99",
   "metadata": {},
   "outputs": [],
   "source": [
    "# Filter columns to keep\n",
    "columns_to_keep =  [\"geometry\", \"OBJECTID\", \"COUNTY_NAME\", \"PARCEL_ADDR\", \"SBL\", \"CITYTOWN_NAME\", \"LOC_STREET\", \"LOC_ZIP\", \"PROP_CLASS\", \"LAND_AV\", \"TOTAL_AV\", \"FULL_MARKET_VAL\", \"YR_BLT\", \"FRONT\", \"DEPTH\", \"SQ_FT\", \"SQFT_LIVING\", \"GFA\", \"SPATIAL_YR\"]\n",
    "gdf_subset = gdf[columns_to_keep]\n",
    "\n",
    "\n",
    "# Match land classification codes of NYC with other counties\n",
    "counties_nyc = [\"Kings\", \"Bronx\", \"NewYork\", \"Queens\", \"Richmond\"]\n",
    "\n",
    "# Edit \"PROP_CLASS\" for non-NYC counties\n",
    "gdf_subset.loc[~gdf_subset['COUNTY_NAME'].isin(counties_nyc), 'PROP_CLASS'] = gdf_subset.loc[~gdf_subset['COUNTY_NAME'].isin(counties_nyc), 'PROP_CLASS'].str[0]\n",
    "\n",
    "# Edit \"PROP_CLASS\" for NYC counties (nyc_residential --> '2' Residential)\n",
    "nyc_residential = ['01', '02', '03']\n",
    "gdf_subset.loc[gdf_subset['PROP_CLASS'].isin(nyc_residential), 'PROP_CLASS'] = '2'\n",
    "\n",
    "# Edit \"PROP_CLASS\" for NYC counties (nyc_commercial --> '4' Commercial)\n",
    "nyc_commercial = ['05']\n",
    "gdf_subset.loc[gdf_subset['PROP_CLASS'].isin(nyc_commercial), 'PROP_CLASS'] = '4'\n",
    "\n",
    "# Edit \"PROP_CLASS\" for NYC counties (nyc_industrial --> '7' Industrial)\n",
    "nyc_industrial = ['06']\n",
    "gdf_subset.loc[gdf_subset['PROP_CLASS'].isin(nyc_industrial), 'PROP_CLASS'] = '7'\n",
    "\n",
    "# Edit \"PROP_CLASS\" for NYC counties (nyc_transportation --> '8' Public services)\n",
    "nyc_transportation = ['07']\n",
    "gdf_subset.loc[gdf_subset['PROP_CLASS'].isin(nyc_transportation), 'PROP_CLASS'] = '8'\n",
    "\n",
    "# Edit \"PROP_CLASS\" for NYC counties (nyc_institutions --> '6' Community services)\n",
    "nyc_institutions = ['08']\n",
    "gdf_subset.loc[gdf_subset['PROP_CLASS'].isin(nyc_institutions), 'PROP_CLASS'] = '6'\n",
    "\n",
    "# Edit \"PROP_CLASS\" for NYC counties (nyc_outdoor --> '9' public parks)\n",
    "nyc_outdoor = ['09']\n",
    "gdf_subset.loc[gdf_subset['PROP_CLASS'].isin(nyc_outdoor), 'PROP_CLASS'] = '9'\n",
    "\n",
    "# Edit \"PROP_CLASS\" for NYC counties (nyc_parking --> null)\n",
    "nyc_parking = ['10']\n",
    "gdf_subset.loc[gdf_subset['PROP_CLASS'].isin(nyc_parking), 'PROP_CLASS'] = None\n",
    "\n",
    "# Edit \"PROP_CLASS\" for NYC counties (nyc_vacant --> '3' vacant land)\n",
    "nyc_vacant = ['11']\n",
    "gdf_subset.loc[gdf_subset['PROP_CLASS'].isin(nyc_vacant), 'PROP_CLASS'] = '3'\n",
    "\n",
    "# Edit \"PROP_CLASS\" for NYC counties ('04' --> '10' Mixed Residential & Commercial)\n",
    "nyc_mixed = ['04']\n",
    "gdf_subset.loc[gdf_subset['PROP_CLASS'].isin(nyc_mixed), 'PROP_CLASS'] = '10'"
   ]
  },
  {
   "cell_type": "code",
   "execution_count": 38,
   "id": "8ef24fe4-cc1f-4c3d-a5bf-5574c5cebb1a",
   "metadata": {},
   "outputs": [],
   "source": [
    "gdf_subset.to_file('./outputs/NYS_2022_Tax_Parcels_Public_32Counties.geojson', driver='GeoJSON')"
   ]
  }
 ],
 "metadata": {
  "kernelspec": {
   "display_name": "Python 3 (ipykernel)",
   "language": "python",
   "name": "python3"
  },
  "language_info": {
   "codemirror_mode": {
    "name": "ipython",
    "version": 3
   },
   "file_extension": ".py",
   "mimetype": "text/x-python",
   "name": "python",
   "nbconvert_exporter": "python",
   "pygments_lexer": "ipython3",
   "version": "3.11.5"
  }
 },
 "nbformat": 4,
 "nbformat_minor": 5
}
