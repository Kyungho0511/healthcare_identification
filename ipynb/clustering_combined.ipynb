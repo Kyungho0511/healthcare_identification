{
 "cells": [
  {
   "cell_type": "code",
   "execution_count": 1,
   "id": "42c06b89-8c8f-45d8-97bf-0737e293285d",
   "metadata": {},
   "outputs": [],
   "source": [
    "import pandas as pd\n",
    "import geopandas as gpd\n",
    "import numpy as np"
   ]
  },
  {
   "cell_type": "code",
   "execution_count": 2,
   "id": "147a42ad-b474-499f-93d3-a4f1740a9ad8",
   "metadata": {},
   "outputs": [],
   "source": [
    "cluster_profitability_gdf = gpd.read_file('./data/cluster_profiltability.geojson')\n",
    "cluster_vulnerability_gdf = gpd.read_file('./data/cluster_vulnerability.geojson')"
   ]
  },
  {
   "cell_type": "code",
   "execution_count": 6,
   "id": "a5107fc7-319c-4368-a0aa-751e7836977d",
   "metadata": {},
   "outputs": [
    {
     "name": "stdout",
     "output_type": "stream",
     "text": [
      "(1141, 9)\n",
      "Index(['GEOID', 'unserved medicaid enrollees per km2',\n",
      "       'unserved commercial insurance enrollees per km2',\n",
      "       'insured population per km2', 'Median household income',\n",
      "       'Median household disposable income', 'avg_land_price_per_sqft',\n",
      "       'cluster_health_profiltability', 'geometry'],\n",
      "      dtype='object')\n",
      "GEOID                                                object\n",
      "unserved medicaid enrollees per km2                 float64\n",
      "unserved commercial insurance enrollees per km2     float64\n",
      "insured population per km2                          float64\n",
      "Median household income                             float64\n",
      "Median household disposable income                  float64\n",
      "avg_land_price_per_sqft                             float64\n",
      "cluster_health_profiltability                         int64\n",
      "geometry                                           geometry\n",
      "dtype: object\n",
      "(1006, 16)\n",
      "Index(['GEOID', 'unserved medicaid enrollees per km2',\n",
      "       'No leisure-time physical activity', 'Binge drinking',\n",
      "       'Sleeping less than 7 hours', 'Current smoking',\n",
      "       'Cholesterol screening', 'Current lack of health insurance',\n",
      "       'Taking medicine for high blood pressure control',\n",
      "       'Visits to dentist or dental clinic',\n",
      "       'Visits to doctor for routine checkup within the past',\n",
      "       'Physical health not good for >=14 days',\n",
      "       'Mental health not good for >=14 days',\n",
      "       'Fair or poor self-rated health status', 'Cluster', 'geometry'],\n",
      "      dtype='object')\n",
      "GEOID                                                      int64\n",
      "unserved medicaid enrollees per km2                      float64\n",
      "No leisure-time physical activity                        float64\n",
      "Binge drinking                                           float64\n",
      "Sleeping less than 7 hours                               float64\n",
      "Current smoking                                          float64\n",
      "Cholesterol screening                                    float64\n",
      "Current lack of health insurance                         float64\n",
      "Taking medicine for high blood pressure control          float64\n",
      "Visits to dentist or dental clinic                       float64\n",
      "Visits to doctor for routine checkup within the past     float64\n",
      "Physical health not good for >=14 days                   float64\n",
      "Mental health not good for >=14 days                     float64\n",
      "Fair or poor self-rated health status                    float64\n",
      "Cluster                                                    int64\n",
      "geometry                                                geometry\n",
      "dtype: object\n"
     ]
    }
   ],
   "source": [
    "print(cluster_profitability_gdf.shape)\n",
    "print(cluster_profitability_gdf.columns)\n",
    "print(cluster_profitability_gdf.dtypes)\n",
    "\n",
    "print(cluster_vulnerability_gdf.shape)\n",
    "print(cluster_vulnerability_gdf.columns)\n",
    "print(cluster_vulnerability_gdf.dtypes)\n",
    "# merged_gdf = cluster_profitability_gdf.merge(cluster_vulnerability_gdf, how='left', left_on='GEOID', right_on='GEOID')\n",
    "\n",
    "# merged_gdf = merged_gdf[[\n",
    "#     'GEOID', 'geometry',\n",
    "#     'unserved medicaid enrollees per km2',\n",
    "#     'unserved commercial insurance enrollees per km2', \n",
    "#     'insured population per km2',\n",
    "#     'Median household income', 'Median household disposable income'\n",
    "# ]]"
   ]
  },
  {
   "cell_type": "code",
   "execution_count": null,
   "id": "716e49f3-ca58-4fdb-a183-cb52128d0ae4",
   "metadata": {},
   "outputs": [],
   "source": []
  }
 ],
 "metadata": {
  "kernelspec": {
   "display_name": "Python 3 (ipykernel)",
   "language": "python",
   "name": "python3"
  },
  "language_info": {
   "codemirror_mode": {
    "name": "ipython",
    "version": 3
   },
   "file_extension": ".py",
   "mimetype": "text/x-python",
   "name": "python",
   "nbconvert_exporter": "python",
   "pygments_lexer": "ipython3",
   "version": "3.11.5"
  }
 },
 "nbformat": 4,
 "nbformat_minor": 5
}
