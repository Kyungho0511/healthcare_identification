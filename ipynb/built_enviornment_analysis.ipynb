{
 "cells": [
  {
   "cell_type": "code",
   "execution_count": 5,
   "id": "9af9c399-8189-42d5-a611-2200f1437a0e",
   "metadata": {},
   "outputs": [],
   "source": [
    "import pandas as pd\n",
    "import geopandas as gpd\n",
    "import numpy as np\n",
    "import matplotlib.pyplot as plt"
   ]
  },
  {
   "cell_type": "markdown",
   "id": "f2fd3df9-2801-4b64-be2f-67329a1b0256",
   "metadata": {},
   "source": [
    "### Get Land Use data"
   ]
  },
  {
   "cell_type": "code",
   "execution_count": 6,
   "id": "5af6f718-829a-4095-8f4c-a24a906e65ac",
   "metadata": {},
   "outputs": [],
   "source": [
    "parcel_points_gdf = gpd.read_file('./data/NYS_Tax_Parcels_Public_Points_2022.geojson')"
   ]
  },
  {
   "cell_type": "code",
   "execution_count": 7,
   "id": "a55fc228-b21b-4989-8f1a-24d8a9b7bb0d",
   "metadata": {},
   "outputs": [
    {
     "name": "stdout",
     "output_type": "stream",
     "text": [
      "(3533, 8)\n",
      "Index(['COUNTYFP', 'GEOID', 'geometry', 'insured population per km2',\n",
      "       'unserved medicaid enrollees per km2',\n",
      "       'unserved commercial insurance enrollees per km2', 'medicaid',\n",
      "       'commercial'],\n",
      "      dtype='object')\n"
     ]
    }
   ],
   "source": [
    "# get shortage_tracts_gdf and compute additional columns\n",
    "shortage_tracts_gdf = gpd.read_file('./data/shortage_tracts_gdf_1pcp220.geojson')\n",
    "shortage_tracts_gdf['unserved medicaid enrollees per km2'] = (shortage_tracts_gdf['unserved_medicaid'] / shortage_tracts_gdf['ALAND'] * 1000000).round(1)\n",
    "shortage_tracts_gdf['unserved commercial insurance enrollees per km2'] = (shortage_tracts_gdf['unserved_commercial'] / shortage_tracts_gdf['ALAND'] * 1000000).round(1)\n",
    "shortage_tracts_gdf['insured population per km2'] = ((shortage_tracts_gdf['medicaid'] + shortage_tracts_gdf['commercial']) / shortage_tracts_gdf['ALAND'] * 1000000).round(1)\n",
    "\n",
    "columns_to_keep = ['COUNTYFP', 'GEOID', 'geometry', 'insured population per km2', 'unserved medicaid enrollees per km2', 'unserved commercial insurance enrollees per km2', 'medicaid', 'commercial']\n",
    "shortage_tracts_gdf = shortage_tracts_gdf[columns_to_keep]\n",
    "shortage_tracts_gdf['GEOID'] = shortage_tracts_gdf['GEOID'].astype('string')\n",
    "print(shortage_tracts_gdf.shape)\n",
    "print(shortage_tracts_gdf.columns)"
   ]
  },
  {
   "cell_type": "code",
   "execution_count": 8,
   "id": "71b7bb2d-50ad-409e-aac5-4eea67219686",
   "metadata": {},
   "outputs": [
    {
     "name": "stdout",
     "output_type": "stream",
     "text": [
      "Index(['SQFT_LIVING', 'GFA', 'land_price_per_sqft(dollars)', 'agriculture',\n",
      "       'residential', 'vacant', 'commercial_left', 'industrial', 'geometry',\n",
      "       'index_right', 'COUNTYFP', 'GEOID', 'insured population per km2',\n",
      "       'unserved medicaid enrollees per km2',\n",
      "       'unserved commercial insurance enrollees per km2', 'medicaid',\n",
      "       'commercial_right'],\n",
      "      dtype='object')\n"
     ]
    }
   ],
   "source": [
    "# Perform the spatial join\n",
    "joined_gdf = gpd.sjoin(parcel_points_gdf, shortage_tracts_gdf, how=\"inner\", predicate='within')\n",
    "print(joined_gdf.columns)\n",
    "\n",
    "# Calculate land use data while processing spatial join\n",
    "residential_area_sum_sqft = joined_gdf.groupby('GEOID')['SQFT_LIVING'].sum().reset_index(name='residential_area_sum_sqft')\n",
    "commercial_area_sum_sqft = joined_gdf.groupby('GEOID')['GFA'].sum().reset_index(name='commercial_area_sum_sqft')\n",
    "agriculture_ratio = (joined_gdf.groupby('GEOID')['agriculture'].sum() / joined_gdf.groupby('GEOID')['agriculture'].count()).reset_index(name='agriculture_ratio').round(2)\n",
    "residential_ratio = (joined_gdf.groupby('GEOID')['residential'].sum() / joined_gdf.groupby('GEOID')['residential'].count()).reset_index(name='residential_ratio').round(2)\n",
    "vacant_ratio = (joined_gdf.groupby('GEOID')['vacant'].sum() / joined_gdf.groupby('GEOID')['vacant'].count()).reset_index(name='vacant_ratio').round(2)\n",
    "commercial_ratio = (joined_gdf.groupby('GEOID')['commercial_left'].sum() / joined_gdf.groupby('GEOID')['commercial_left'].count()).reset_index(name='commercial_ratio').round(2)\n",
    "industrial_ratio = (joined_gdf.groupby('GEOID')['industrial'].sum() / joined_gdf.groupby('GEOID')['industrial'].count()).reset_index(name='industrial_ratio').round(2)\n",
    "avg_land_price_per_sqft = joined_gdf.groupby('GEOID')['land_price_per_sqft(dollars)'].mean().reset_index(name='avg_land_price_per_sqft').round(2)\n",
    "\n",
    "# Merge the average land price back into merged_gdf\n",
    "shortage_tracts_gdf = shortage_tracts_gdf.merge(residential_area_sum_sqft, left_on='GEOID', right_on='GEOID')\n",
    "shortage_tracts_gdf = shortage_tracts_gdf.merge(commercial_area_sum_sqft, left_on='GEOID', right_on='GEOID')\n",
    "shortage_tracts_gdf = shortage_tracts_gdf.merge(agriculture_ratio, left_on='GEOID', right_on='GEOID')\n",
    "shortage_tracts_gdf = shortage_tracts_gdf.merge(residential_ratio, left_on='GEOID', right_on='GEOID')\n",
    "shortage_tracts_gdf = shortage_tracts_gdf.merge(vacant_ratio, left_on='GEOID', right_on='GEOID')\n",
    "shortage_tracts_gdf = shortage_tracts_gdf.merge(commercial_ratio, left_on='GEOID', right_on='GEOID')\n",
    "shortage_tracts_gdf = shortage_tracts_gdf.merge(industrial_ratio, left_on='GEOID', right_on='GEOID')\n",
    "shortage_tracts_gdf = shortage_tracts_gdf.merge(avg_land_price_per_sqft, left_on='GEOID', right_on='GEOID')\n",
    "shortage_tracts_gdf = shortage_tracts_gdf.dropna()"
   ]
  },
  {
   "cell_type": "code",
   "execution_count": 9,
   "id": "b860fef6-2711-4b08-94ac-dc87f0a5c65b",
   "metadata": {},
   "outputs": [
    {
     "name": "stdout",
     "output_type": "stream",
     "text": [
      "(3533, 18)\n",
      "Index(['COUNTYFP', 'GEOID', 'geometry', 'insured population per km2',\n",
      "       'unserved medicaid enrollees per km2',\n",
      "       'unserved commercial insurance enrollees per km2', 'medicaid',\n",
      "       'commercial', 'residential_area_sum_sqft', 'commercial_area_sum_sqft',\n",
      "       'agriculture_ratio', 'residential_ratio', 'vacant_ratio',\n",
      "       'commercial_ratio', 'industrial_ratio', 'avg_land_price_per_sqft',\n",
      "       'residential_area_per_sqft', 'commercial_area_per_sqft'],\n",
      "      dtype='object')\n"
     ]
    }
   ],
   "source": [
    "shortage_tracts_gdf[\"residential_area_per_sqft\"] = (shortage_tracts_gdf[\"residential_area_sum_sqft\"] / shortage_tracts_gdf.geometry.area).round(2)\n",
    "shortage_tracts_gdf[\"commercial_area_per_sqft\"] = (shortage_tracts_gdf[\"commercial_area_sum_sqft\"] / shortage_tracts_gdf.geometry.area).round(2)\n",
    "\n",
    "print(shortage_tracts_gdf.shape)\n",
    "print(shortage_tracts_gdf.columns)"
   ]
  },
  {
   "cell_type": "markdown",
   "id": "157a9b5f-f0ec-4c6a-99be-c6ab19fb6311",
   "metadata": {},
   "source": [
    "### Get Mode of Transportation data"
   ]
  },
  {
   "cell_type": "code",
   "execution_count": 19,
   "id": "5ded483e-6215-4680-972d-03c66ca83def",
   "metadata": {},
   "outputs": [
    {
     "name": "stdout",
     "output_type": "stream",
     "text": [
      "(5411, 7)\n",
      "Index(['GEO_ID', 'drove alone', 'carpooled', 'public transit', 'walked',\n",
      "       'taxicab, motorcycle, bicycle, or other means', 'worked from home'],\n",
      "      dtype='object')\n",
      "GEO_ID                                          object\n",
      "drove alone                                      int64\n",
      "carpooled                                        int64\n",
      "public transit                                   int64\n",
      "walked                                           int64\n",
      "taxicab, motorcycle, bicycle, or other means     int64\n",
      "worked from home                                 int64\n",
      "dtype: object\n"
     ]
    }
   ],
   "source": [
    "transportation_df = pd.read_csv('./data/Means of Transportation to Work by Vehicles Available (ACSDT5Y2022.B08141)/ACSDT5Y2022.B08141-Data.csv')\n",
    "transportation_df = transportation_df.iloc[1:, :]\n",
    "\n",
    "columns_to_keep = ['GEO_ID', 'B08141_006E', 'B08141_011E', 'B08141_016E', 'B08141_021E', 'B08141_026E', 'B08141_031E']\n",
    "transportation_df = transportation_df[columns_to_keep]\n",
    "transportation_df.rename(columns={'B08141_006E': 'drove alone', 'B08141_011E': 'carpooled', 'B08141_016E': 'public transit', 'B08141_021E': 'walked', 'B08141_026E': 'taxicab, motorcycle, bicycle, or other means', 'B08141_031E': 'worked from home'}, inplace=True)\n",
    "transportation_df['GEO_ID'] = transportation_df['GEO_ID'].str.slice(-11)\n",
    "\n",
    "# Ensure numerica datatype \n",
    "non_numeric_cols = transportation_df.select_dtypes(exclude=[np.number]).columns\n",
    "for col in non_numeric_cols:\n",
    "    if col == 'GEO_ID':\n",
    "        continue\n",
    "    transportation_df[col] = pd.to_numeric(transportation_df[col], errors='coerce')\n",
    "\n",
    "print(transportation_df.shape)\n",
    "print(transportation_df.columns)\n",
    "print(transportation_df.dtypes)"
   ]
  },
  {
   "cell_type": "code",
   "execution_count": 20,
   "id": "50d2ef8c-b013-4823-837d-6d570d9d4a9a",
   "metadata": {},
   "outputs": [
    {
     "name": "stdout",
     "output_type": "stream",
     "text": [
      "           GEO_ID  % workers drove alone  % workers public transit  \\\n",
      "2870  36061028500                   0.06                      0.59   \n",
      "4338  36087011511                   0.66                      0.14   \n",
      "522   36009940301                   0.72                      0.01   \n",
      "5231  36119004802                   0.43                      0.23   \n",
      "4679  36103124401                   0.76                      0.12   \n",
      "3632  36081028200                   0.37                      0.44   \n",
      "2577  36061000500                    NaN                       NaN   \n",
      "5256  36119006801                   0.52                      0.16   \n",
      "1015  36029014703                   0.76                      0.02   \n",
      "26    36001002200                   0.49                      0.06   \n",
      "\n",
      "      % workers walked  \n",
      "2870              0.18  \n",
      "4338              0.01  \n",
      "522               0.10  \n",
      "5231              0.00  \n",
      "4679              0.05  \n",
      "3632              0.01  \n",
      "2577               NaN  \n",
      "5256              0.01  \n",
      "1015              0.00  \n",
      "26                0.28  \n"
     ]
    }
   ],
   "source": [
    "sum = transportation_df['drove alone'] + transportation_df['carpooled'] + transportation_df['public transit'] + transportation_df['walked'] + transportation_df['taxicab, motorcycle, bicycle, or other means'] + transportation_df['worked from home']\n",
    "transportation_df['% workers drove alone'] = (transportation_df['drove alone'] / sum).round(2)\n",
    "transportation_df['% workers public transit'] = (transportation_df['public transit'] / sum).round(2)\n",
    "transportation_df['% workers walked'] = (transportation_df['walked'] / sum).round(2)\n",
    "\n",
    "transportation_df = transportation_df[['GEO_ID', '% workers drove alone', '% workers public transit', '% workers walked']]\n",
    "print(transportation_df.sample(10))"
   ]
  },
  {
   "cell_type": "markdown",
   "id": "0b51904a-8e3e-42b3-98ef-d6634c5053bc",
   "metadata": {},
   "source": [
    "### Merge Land Use & Mode of Transportation data"
   ]
  },
  {
   "cell_type": "code",
   "execution_count": 22,
   "id": "4536da57-4ac9-44d9-90cb-2cf0085c17f5",
   "metadata": {},
   "outputs": [
    {
     "name": "stdout",
     "output_type": "stream",
     "text": [
      "Index(['GEOID', 'geometry', 'insured population per km2',\n",
      "       'unserved medicaid enrollees per km2',\n",
      "       'unserved commercial insurance enrollees per km2', 'medicaid enrollees',\n",
      "       'commercial insurance enrollees', 'agriculture_ratio',\n",
      "       'residential_ratio', 'vacant_ratio', 'commercial_ratio',\n",
      "       'industrial_ratio', 'avg_land_price_per_sqft',\n",
      "       'residential_area_per_sqft', 'commercial_area_per_sqft',\n",
      "       '% workers drove alone', '% workers public transit',\n",
      "       '% workers walked'],\n",
      "      dtype='object')\n",
      "(3533, 18)\n"
     ]
    }
   ],
   "source": [
    "merged_gdf = shortage_tracts_gdf.merge(transportation_df, how='left', left_on='GEOID', right_on='GEO_ID')\n",
    "merged_gdf[\"medicaid enrollees\"] = merged_gdf[\"medicaid\"]\n",
    "merged_gdf[\"commercial insurance enrollees\"] = merged_gdf[\"commercial\"]\n",
    "merged_gdf = merged_gdf[[\n",
    "    'GEOID', 'geometry', 'insured population per km2',\n",
    "    'unserved medicaid enrollees per km2', 'unserved commercial insurance enrollees per km2', \n",
    "    'medicaid enrollees', 'commercial insurance enrollees', 'agriculture_ratio', 'residential_ratio', \n",
    "    'vacant_ratio', 'commercial_ratio', 'industrial_ratio', 'avg_land_price_per_sqft',\n",
    "    'residential_area_per_sqft', 'commercial_area_per_sqft', '% workers drove alone', \n",
    "    '% workers public transit', '% workers walked'\n",
    "]]\n",
    "\n",
    "print(merged_gdf.columns)\n",
    "print(merged_gdf.shape)"
   ]
  },
  {
   "cell_type": "code",
   "execution_count": 23,
   "id": "b4531dce-5dc4-4a08-a566-cd2019ff7332",
   "metadata": {},
   "outputs": [],
   "source": [
    "merged_gdf.to_file('built_environment_analysis.geojson', driver='GeoJSON')"
   ]
  },
  {
   "cell_type": "code",
   "execution_count": null,
   "id": "cc48dafb-a288-4a36-bc91-29b03a79f91a",
   "metadata": {},
   "outputs": [],
   "source": []
  }
 ],
 "metadata": {
  "kernelspec": {
   "display_name": "Python 3 (ipykernel)",
   "language": "python",
   "name": "python3"
  },
  "language_info": {
   "codemirror_mode": {
    "name": "ipython",
    "version": 3
   },
   "file_extension": ".py",
   "mimetype": "text/x-python",
   "name": "python",
   "nbconvert_exporter": "python",
   "pygments_lexer": "ipython3",
   "version": "3.11.5"
  }
 },
 "nbformat": 4,
 "nbformat_minor": 5
}
