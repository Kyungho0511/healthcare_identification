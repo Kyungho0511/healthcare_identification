{
 "cells": [
  {
   "cell_type": "code",
   "execution_count": 14,
   "id": "66dbe017",
   "metadata": {},
   "outputs": [],
   "source": [
    "import pandas as pd\n",
    "import geopandas as gpd\n",
    "import numpy as np"
   ]
  },
  {
   "cell_type": "code",
   "execution_count": 15,
   "id": "efc697d8",
   "metadata": {},
   "outputs": [],
   "source": [
    "tracts_nyc_gdf = gpd.read_file('./data/tracts_features_nyc.geojson')\n",
    "tracts_upstate_gdf = gpd.read_file('./data/tracts_features_upstate.geojson')\n",
    "tracts_nyc_df = tracts_nyc_gdf.drop(columns=['geometry', 'GEOID'])\n",
    "tracts_upstate_df = tracts_upstate_gdf.drop(columns=['geometry', 'GEOID'])\n",
    "# display(tracts_nyc_df)\n",
    "# display(tracts_upstate_df)"
   ]
  },
  {
   "cell_type": "code",
   "execution_count": 16,
   "id": "8350507b",
   "metadata": {},
   "outputs": [
    {
     "name": "stdout",
     "output_type": "stream",
     "text": [
      "<class 'numpy.ndarray'>\n",
      "<class 'numpy.ndarray'>\n"
     ]
    }
   ],
   "source": [
    "# Scale our features data to range between 0 and 1\n",
    "# To do so we use the MinMaxScaler\n",
    "# Note that this outputs a numpy array\n",
    "from sklearn.preprocessing import MinMaxScaler\n",
    "scaler = MinMaxScaler()\n",
    "\n",
    "# Transform the data\n",
    "X_nyc = scaler.fit_transform(tracts_nyc_df)\n",
    "print(type(X_nyc))\n",
    "# display(pd.DataFrame(X_nyc,columns=tracts_nyc_df.columns))\n",
    "\n",
    "X_upstate = scaler.fit_transform(tracts_upstate_df)\n",
    "print(type(X_upstate))\n",
    "# display(pd.DataFrame(X_upstate,columns=tracts_upstate_df.columns))"
   ]
  },
  {
   "cell_type": "code",
   "execution_count": 17,
   "id": "25a21ffb",
   "metadata": {
    "scrolled": false
   },
   "outputs": [],
   "source": [
    "# Converting 'X_nyc' to a DataFrame with the original column names\n",
    "X_nyc_df = pd.DataFrame(X_nyc, columns=tracts_nyc_df.columns)\n",
    "\n",
    "# Converting 'X_upstate' to a DataFrame with the original column names\n",
    "X_upstate_df = pd.DataFrame(X_upstate, columns=tracts_upstate_df.columns)\n",
    "\n",
    "# Replace the non-'GEOID' and non-'geometry' columns in the GeoDataFrames with these new DataFrames\n",
    "tracts_nyc_gdf[X_nyc_df.columns] = X_nyc_df\n",
    "\n",
    "tracts_upstate_gdf[X_upstate_df.columns] = X_upstate_df\n",
    "\n",
    "# Check the resulting GeoDataFrames to ensure the replacement was successful\n",
    "# display(tracts_nyc_gdf)\n",
    "# display(tracts_upstate_gdf)"
   ]
  },
  {
   "cell_type": "code",
   "execution_count": 18,
   "id": "63d933c8",
   "metadata": {},
   "outputs": [],
   "source": [
    "tracts_nyc_gdf.to_file('tracts_features_nyc_normalized.geojson', driver='GeoJSON')\n",
    "tracts_upstate_gdf.to_file('tracts_features_upstate_normalized.geojson', driver='GeoJSON')"
   ]
  }
 ],
 "metadata": {
  "kernelspec": {
   "display_name": "Python 3 (ipykernel)",
   "language": "python",
   "name": "python3"
  },
  "language_info": {
   "codemirror_mode": {
    "name": "ipython",
    "version": 3
   },
   "file_extension": ".py",
   "mimetype": "text/x-python",
   "name": "python",
   "nbconvert_exporter": "python",
   "pygments_lexer": "ipython3",
   "version": "3.10.11"
  }
 },
 "nbformat": 4,
 "nbformat_minor": 5
}
