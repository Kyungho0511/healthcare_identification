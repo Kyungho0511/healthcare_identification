{
 "cells": [
  {
   "cell_type": "code",
   "execution_count": 2,
   "id": "9af9c399-8189-42d5-a611-2200f1437a0e",
   "metadata": {},
   "outputs": [],
   "source": [
    "import pandas as pd\n",
    "import geopandas as gpd\n",
    "import numpy as np\n",
    "import matplotlib.pyplot as plt"
   ]
  },
  {
   "cell_type": "markdown",
   "id": "f2fd3df9-2801-4b64-be2f-67329a1b0256",
   "metadata": {},
   "source": [
    "### Get Land Use data"
   ]
  },
  {
   "cell_type": "code",
   "execution_count": 13,
   "id": "5af6f718-829a-4095-8f4c-a24a906e65ac",
   "metadata": {},
   "outputs": [],
   "source": [
    "parcel_points_gdf = gpd.read_file('./data/NYS_Tax_Parcels_Public_Points_2022.geojson')"
   ]
  },
  {
   "cell_type": "code",
   "execution_count": 14,
   "id": "a55fc228-b21b-4989-8f1a-24d8a9b7bb0d",
   "metadata": {},
   "outputs": [
    {
     "name": "stdout",
     "output_type": "stream",
     "text": [
      "(3533, 8)\n",
      "Index(['COUNTYFP', 'GEOID', 'geometry', 'insured population per km2',\n",
      "       'unserved medicaid enrollees per km2',\n",
      "       'unserved commercial insurance enrollees per km2', 'medicaid',\n",
      "       'commercial'],\n",
      "      dtype='object')\n"
     ]
    }
   ],
   "source": [
    "# get shortage_tracts_gdf and compute additional columns\n",
    "shortage_tracts_gdf = gpd.read_file('./data/shortage_tracts_gdf_1pcp220.geojson')\n",
    "shortage_tracts_gdf['unserved medicaid enrollees per km2'] = (shortage_tracts_gdf['unserved_medicaid'] / shortage_tracts_gdf['ALAND'] * 1000000).round(1)\n",
    "shortage_tracts_gdf['unserved commercial insurance enrollees per km2'] = (shortage_tracts_gdf['unserved_commercial'] / shortage_tracts_gdf['ALAND'] * 1000000).round(1)\n",
    "shortage_tracts_gdf['insured population per km2'] = ((shortage_tracts_gdf['medicaid'] + shortage_tracts_gdf['commercial']) / shortage_tracts_gdf['ALAND'] * 1000000).round(1)\n",
    "\n",
    "columns_to_keep = ['COUNTYFP', 'GEOID', 'geometry', 'insured population per km2', 'unserved medicaid enrollees per km2', 'unserved commercial insurance enrollees per km2', 'medicaid', 'commercial']\n",
    "shortage_tracts_gdf = shortage_tracts_gdf[columns_to_keep]\n",
    "shortage_tracts_gdf['GEOID'] = shortage_tracts_gdf['GEOID'].astype('string')\n",
    "print(shortage_tracts_gdf.shape)\n",
    "print(shortage_tracts_gdf.columns)"
   ]
  },
  {
   "cell_type": "code",
   "execution_count": 15,
   "id": "71b7bb2d-50ad-409e-aac5-4eea67219686",
   "metadata": {},
   "outputs": [
    {
     "name": "stdout",
     "output_type": "stream",
     "text": [
      "Index(['SQFT_LIVING', 'GFA', 'land_price_per_sqft(dollars)', 'agriculture',\n",
      "       'residential', 'vacant', 'commercial_left', 'industrial', 'geometry',\n",
      "       'index_right', 'COUNTYFP', 'GEOID', 'insured population per km2',\n",
      "       'unserved medicaid enrollees per km2',\n",
      "       'unserved commercial insurance enrollees per km2', 'medicaid',\n",
      "       'commercial_right'],\n",
      "      dtype='object')\n"
     ]
    }
   ],
   "source": [
    "# Perform the spatial join\n",
    "joined_gdf = gpd.sjoin(parcel_points_gdf, shortage_tracts_gdf, how=\"inner\", predicate='within')\n",
    "print(joined_gdf.columns)\n",
    "\n",
    "# Calculate land use data while processing spatial join\n",
    "residential_area_sum_sqft = joined_gdf.groupby('GEOID')['SQFT_LIVING'].sum().reset_index(name='residential_area_sum_sqft')\n",
    "commercial_area_sum_sqft = joined_gdf.groupby('GEOID')['GFA'].sum().reset_index(name='commercial_area_sum_sqft')\n",
    "agriculture_ratio = (joined_gdf.groupby('GEOID')['agriculture'].sum() / joined_gdf.groupby('GEOID')['agriculture'].count()).reset_index(name='agriculture_ratio').round(2)\n",
    "residential_ratio = (joined_gdf.groupby('GEOID')['residential'].sum() / joined_gdf.groupby('GEOID')['residential'].count()).reset_index(name='residential_ratio').round(2)\n",
    "vacant_ratio = (joined_gdf.groupby('GEOID')['vacant'].sum() / joined_gdf.groupby('GEOID')['vacant'].count()).reset_index(name='vacant_ratio').round(2)\n",
    "commercial_ratio = (joined_gdf.groupby('GEOID')['commercial_left'].sum() / joined_gdf.groupby('GEOID')['commercial_left'].count()).reset_index(name='commercial_ratio').round(2)\n",
    "industrial_ratio = (joined_gdf.groupby('GEOID')['industrial'].sum() / joined_gdf.groupby('GEOID')['industrial'].count()).reset_index(name='industrial_ratio').round(2)\n",
    "avg_land_price_per_sqft = joined_gdf.groupby('GEOID')['land_price_per_sqft(dollars)'].mean().reset_index(name='avg_land_price_per_sqft').round(2)\n",
    "\n",
    "# Merge the average land price back into merged_gdf\n",
    "shortage_tracts_gdf = shortage_tracts_gdf.merge(residential_area_sum_sqft, left_on='GEOID', right_on='GEOID')\n",
    "shortage_tracts_gdf = shortage_tracts_gdf.merge(commercial_area_sum_sqft, left_on='GEOID', right_on='GEOID')\n",
    "shortage_tracts_gdf = shortage_tracts_gdf.merge(agriculture_ratio, left_on='GEOID', right_on='GEOID')\n",
    "shortage_tracts_gdf = shortage_tracts_gdf.merge(residential_ratio, left_on='GEOID', right_on='GEOID')\n",
    "shortage_tracts_gdf = shortage_tracts_gdf.merge(vacant_ratio, left_on='GEOID', right_on='GEOID')\n",
    "shortage_tracts_gdf = shortage_tracts_gdf.merge(commercial_ratio, left_on='GEOID', right_on='GEOID')\n",
    "shortage_tracts_gdf = shortage_tracts_gdf.merge(industrial_ratio, left_on='GEOID', right_on='GEOID')\n",
    "shortage_tracts_gdf = shortage_tracts_gdf.merge(avg_land_price_per_sqft, left_on='GEOID', right_on='GEOID')\n",
    "shortage_tracts_gdf = shortage_tracts_gdf.dropna()"
   ]
  },
  {
   "cell_type": "code",
   "execution_count": 16,
   "id": "b860fef6-2711-4b08-94ac-dc87f0a5c65b",
   "metadata": {},
   "outputs": [
    {
     "name": "stdout",
     "output_type": "stream",
     "text": [
      "(3533, 20)\n",
      "Index(['COUNTYFP', 'GEOID', 'geometry', 'insured population per km2',\n",
      "       'unserved medicaid enrollees per km2',\n",
      "       'unserved commercial insurance enrollees per km2', 'medicaid',\n",
      "       'commercial', 'residential_area_sum_sqft', 'commercial_area_sum_sqft',\n",
      "       'agriculture_ratio', 'residential_ratio', 'vacant_ratio',\n",
      "       'commercial_ratio', 'industrial_ratio', 'avg_land_price_per_sqft',\n",
      "       'residential_area_per_sqft', 'commercial_area_per_sqft',\n",
      "       'medicaid enrollees per km2', 'commercial enrollees per km2'],\n",
      "      dtype='object')\n"
     ]
    }
   ],
   "source": [
    "shortage_tracts_gdf[\"residential_area_per_sqft\"] = (shortage_tracts_gdf[\"residential_area_sum_sqft\"] / shortage_tracts_gdf.geometry.area).round(2)\n",
    "shortage_tracts_gdf[\"commercial_area_per_sqft\"] = (shortage_tracts_gdf[\"commercial_area_sum_sqft\"] / shortage_tracts_gdf.geometry.area).round(2)\n",
    "# 1km2 = 10763910.4ft2\n",
    "shortage_tracts_gdf[\"medicaid enrollees per km2\"] = (shortage_tracts_gdf[\"medicaid\"] / shortage_tracts_gdf.geometry.area * 10763910.4).round(2)\n",
    "shortage_tracts_gdf[\"commercial enrollees per km2\"] = (shortage_tracts_gdf[\"commercial\"] / shortage_tracts_gdf.geometry.area * 10763910.4).round(2)\n",
    "\n",
    "print(shortage_tracts_gdf.shape)\n",
    "print(shortage_tracts_gdf.columns)"
   ]
  },
  {
   "cell_type": "markdown",
   "id": "157a9b5f-f0ec-4c6a-99be-c6ab19fb6311",
   "metadata": {},
   "source": [
    "### Get Mode of Transportation data"
   ]
  },
  {
   "cell_type": "code",
   "execution_count": 17,
   "id": "5ded483e-6215-4680-972d-03c66ca83def",
   "metadata": {},
   "outputs": [
    {
     "name": "stdout",
     "output_type": "stream",
     "text": [
      "(5411, 7)\n",
      "Index(['GEO_ID', 'drove alone', 'carpooled', 'public transit', 'walked',\n",
      "       'taxicab, motorcycle, bicycle, or other means', 'worked from home'],\n",
      "      dtype='object')\n",
      "GEO_ID                                          object\n",
      "drove alone                                      int64\n",
      "carpooled                                        int64\n",
      "public transit                                   int64\n",
      "walked                                           int64\n",
      "taxicab, motorcycle, bicycle, or other means     int64\n",
      "worked from home                                 int64\n",
      "dtype: object\n"
     ]
    }
   ],
   "source": [
    "transportation_df = pd.read_csv('./data/Means of Transportation to Work by Vehicles Available (ACSDT5Y2022.B08141)/ACSDT5Y2022.B08141-Data.csv')\n",
    "transportation_df = transportation_df.iloc[1:, :]\n",
    "\n",
    "columns_to_keep = ['GEO_ID', 'B08141_006E', 'B08141_011E', 'B08141_016E', 'B08141_021E', 'B08141_026E', 'B08141_031E']\n",
    "transportation_df = transportation_df[columns_to_keep]\n",
    "transportation_df.rename(columns={'B08141_006E': 'drove alone', 'B08141_011E': 'carpooled', 'B08141_016E': 'public transit', 'B08141_021E': 'walked', 'B08141_026E': 'taxicab, motorcycle, bicycle, or other means', 'B08141_031E': 'worked from home'}, inplace=True)\n",
    "transportation_df['GEO_ID'] = transportation_df['GEO_ID'].str.slice(-11)\n",
    "\n",
    "# Ensure numerica datatype \n",
    "non_numeric_cols = transportation_df.select_dtypes(exclude=[np.number]).columns\n",
    "for col in non_numeric_cols:\n",
    "    if col == 'GEO_ID':\n",
    "        continue\n",
    "    transportation_df[col] = pd.to_numeric(transportation_df[col], errors='coerce')\n",
    "\n",
    "print(transportation_df.shape)\n",
    "print(transportation_df.columns)\n",
    "print(transportation_df.dtypes)"
   ]
  },
  {
   "cell_type": "code",
   "execution_count": 18,
   "id": "50d2ef8c-b013-4823-837d-6d570d9d4a9a",
   "metadata": {},
   "outputs": [
    {
     "name": "stdout",
     "output_type": "stream",
     "text": [
      "           GEO_ID  % workers drove alone  % workers carpooled  \\\n",
      "1565  36047039400                   0.43                 0.07   \n",
      "4465  36091062410                   0.80                 0.05   \n",
      "1635  36047047200                   0.27                 0.01   \n",
      "1195  36045061200                   0.69                 0.12   \n",
      "2609  36061003400                   0.00                 0.01   \n",
      "856   36029005300                   0.73                 0.04   \n",
      "4607  36103111508                   0.64                 0.10   \n",
      "1555  36047038300                   0.16                 0.01   \n",
      "5042  36111951400                   0.79                 0.10   \n",
      "628   36015011101                   0.89                 0.05   \n",
      "\n",
      "      % workers public transit  % workers walked  % workers worked from home  \n",
      "1565                      0.17              0.30                        0.02  \n",
      "4465                      0.00              0.03                        0.11  \n",
      "1635                      0.15              0.38                        0.14  \n",
      "1195                      0.01              0.06                        0.03  \n",
      "2609                      0.45              0.26                        0.19  \n",
      "856                       0.04              0.07                        0.10  \n",
      "4607                      0.11              0.01                        0.13  \n",
      "1555                      0.63              0.02                        0.14  \n",
      "5042                      0.00              0.03                        0.07  \n",
      "628                       0.00              0.01                        0.01  \n"
     ]
    }
   ],
   "source": [
    "sum = transportation_df['drove alone'] + transportation_df['carpooled'] + transportation_df['public transit'] + transportation_df['walked'] + transportation_df['taxicab, motorcycle, bicycle, or other means'] + transportation_df['worked from home']\n",
    "transportation_df['% workers drove alone'] = (transportation_df['drove alone'] / sum).round(2)\n",
    "transportation_df['% workers public transit'] = (transportation_df['public transit'] / sum).round(2)\n",
    "transportation_df['% workers walked'] = (transportation_df['walked'] / sum).round(2)\n",
    "transportation_df['% workers worked from home'] = (transportation_df['worked from home'] / sum).round(2)\n",
    "transportation_df['% workers carpooled'] = (transportation_df['carpooled'] / sum).round(2)\n",
    "\n",
    "transportation_df = transportation_df[['GEO_ID', '% workers drove alone', '% workers carpooled', '% workers public transit', '% workers walked', '% workers worked from home']]\n",
    "print(transportation_df.sample(10))"
   ]
  },
  {
   "cell_type": "markdown",
   "id": "0b51904a-8e3e-42b3-98ef-d6634c5053bc",
   "metadata": {},
   "source": [
    "### Merge Land Use & Mode of Transportation data"
   ]
  },
  {
   "cell_type": "code",
   "execution_count": 20,
   "id": "4536da57-4ac9-44d9-90cb-2cf0085c17f5",
   "metadata": {},
   "outputs": [
    {
     "name": "stdout",
     "output_type": "stream",
     "text": [
      "Index(['COUNTYFP', 'GEOID', 'geometry', 'insured population per km2',\n",
      "       'unserved medicaid enrollees per km2',\n",
      "       'unserved commercial insurance enrollees per km2', 'medicaid',\n",
      "       'commercial', 'residential_area_sum_sqft', 'commercial_area_sum_sqft',\n",
      "       'agriculture_ratio', 'residential_ratio', 'vacant_ratio',\n",
      "       'commercial_ratio', 'industrial_ratio', 'avg_land_price_per_sqft',\n",
      "       'residential_area_per_sqft', 'commercial_area_per_sqft',\n",
      "       'medicaid enrollees per km2', 'commercial enrollees per km2'],\n",
      "      dtype='object')\n"
     ]
    }
   ],
   "source": [
    "merged_gdf = shortage_tracts_gdf.merge(transportation_df, how='left', left_on='GEOID', right_on='GEO_ID')\n",
    "merged_gdf = merged_gdf[[\n",
    "    'GEOID', 'geometry', 'insured population per km2',\n",
    "    'unserved medicaid enrollees per km2', 'unserved commercial insurance enrollees per km2', \n",
    "    'medicaid enrollees per km2', 'commercial enrollees per km2', 'agriculture_ratio', 'residential_ratio', \n",
    "    'vacant_ratio', 'commercial_ratio', 'industrial_ratio', 'avg_land_price_per_sqft',\n",
    "    'residential_area_per_sqft', 'commercial_area_per_sqft', '% workers drove alone', \n",
    "    '% workers carpooled', '% workers public transit', '% workers walked', '% workers worked from home'\n",
    "]]\n",
    "\n",
    "# print(merged_gdf.columns)\n",
    "# print(merged_gdf.shape)\n",
    "print(shortage_tracts_gdf.columns)"
   ]
  },
  {
   "cell_type": "markdown",
   "id": "7b9c354f-dec4-4ad6-8315-4204dfd34831",
   "metadata": {},
   "source": [
    "### Get Health and profitability data\n",
    "### Merge all features for clustering analysis"
   ]
  },
  {
   "cell_type": "code",
   "execution_count": 29,
   "id": "b5c198ac-3174-4458-b612-b93815e20ae8",
   "metadata": {},
   "outputs": [],
   "source": [
    "tracts_vulnerability_gdf = gpd.read_file('./data/shortage_tracts_with_vulnerability.geojson')\n",
    "tracts_profitability_gdf = gpd.read_file('./data/shortage_tracts_with_profitability.geojson')"
   ]
  },
  {
   "cell_type": "code",
   "execution_count": 50,
   "id": "ef656a15-e7a2-40a1-88a5-cdff6298f355",
   "metadata": {},
   "outputs": [
    {
     "name": "stdout",
     "output_type": "stream",
     "text": [
      "<class 'geopandas.geodataframe.GeoDataFrame'>\n"
     ]
    }
   ],
   "source": [
    "print(type(merged_gdf))"
   ]
  },
  {
   "cell_type": "code",
   "execution_count": 40,
   "id": "51761aac-5672-42af-8ce8-e8a2a8948484",
   "metadata": {},
   "outputs": [
    {
     "name": "stdout",
     "output_type": "stream",
     "text": [
      "(984, 42)\n"
     ]
    }
   ],
   "source": [
    "# merge all features\n",
    "tracts_with_features_gdf = merged_gdf.merge(tracts_vulnerability_gdf, how='left', left_on='GEOID', right_on='GEOID')\n",
    "tracts_with_features_gdf = tracts_with_features_gdf.dropna()\n",
    "tracts_with_features_gdf = tracts_with_features_gdf.merge(tracts_profitability_gdf, how='left', left_on='GEOID', right_on='GEOID')\n",
    "tracts_with_features_gdf = tracts_with_features_gdf.dropna()\n",
    "print(tracts_with_features_gdf.shape)\n",
    "\n",
    "tracts_with_features_gdf = tracts_with_features_gdf[[\n",
    "    'GEOID', 'geometry', 'medicaid enrollees per km2', 'commercial enrollees per km2', 'insured population per km2_x',\n",
    "    'unserved medicaid enrollees per km2', 'unserved commercial insurance enrollees per km2_x', \n",
    "    'avg_land_price_per_sqft_x', 'agriculture_ratio', 'residential_ratio', 'vacant_ratio', 'commercial_ratio', 'industrial_ratio',\n",
    "    'residential_area_per_sqft', 'commercial_area_per_sqft', '% workers drove alone', '% workers carpooled',\n",
    "    '% workers public transit', '% workers walked', '% workers worked from home', \n",
    "    'No leisure-time physical activity', 'Binge drinking', 'Sleeping less than 7 hours', 'Current smoking',\n",
    "    'Cholesterol screening', 'Current lack of health insurance', 'Taking medicine for high blood pressure control',\n",
    "    'Visits to dentist or dental clinic', 'Visits to doctor for routine checkup within the past',\n",
    "    'Physical health not good for >=14 days', 'Mental health not good for >=14 days', 'Fair or poor self-rated health status', \n",
    "    'Median household income', 'Median household disposable income', 'Median monthly housing cost'\n",
    "]]\n",
    "tracts_with_features_gdf[\"unserved population per km2\"] = tracts_with_features_gdf[\"unserved medicaid enrollees per km2\"] + tracts_with_features_gdf['unserved commercial insurance enrollees per km2_x']"
   ]
  },
  {
   "cell_type": "code",
   "execution_count": 48,
   "id": "9e86a3bd-c596-4985-b39d-7415744f06ee",
   "metadata": {},
   "outputs": [
    {
     "name": "stdout",
     "output_type": "stream",
     "text": [
      "<class 'pandas.core.frame.DataFrame'>\n"
     ]
    }
   ],
   "source": [
    "print(type(tracts_with_features_gdf))"
   ]
  },
  {
   "cell_type": "code",
   "execution_count": 45,
   "id": "a0659233-8092-428b-a434-a4819d1d3a3c",
   "metadata": {},
   "outputs": [
    {
     "name": "stdout",
     "output_type": "stream",
     "text": [
      "Index(['GEOID', 'geometry', 'medicaid enrollees / km2',\n",
      "       'commercial enrollees / km2', 'insured population / km2',\n",
      "       'unserved medicaid enrollees / km2',\n",
      "       'unserved commercial enrollees / km2', 'average land price / ft2',\n",
      "       'agricultural land percent', 'residential district percent',\n",
      "       'vacant land percent', 'commercial district percent',\n",
      "       'industrial district percent', 'residential area / ft2',\n",
      "       'commercial area / ft2', 'drove alone percent', 'carpooled percent',\n",
      "       'public transit percent', 'walked percent', 'worked from home percent',\n",
      "       'no leisure-time physical activity', 'binge drinking',\n",
      "       'sleeping less than 7 hours', 'current smoking',\n",
      "       'cholesterol screening', 'current lack of health insurance',\n",
      "       'taking medicine for high blood pressure',\n",
      "       'visits to dentist or dental clinic',\n",
      "       'visits to doctor for routine checkup',\n",
      "       'physical health not good for >=14 days',\n",
      "       'mental health not good for >=14 days',\n",
      "       'fair or poor self-rated health status', 'median household income',\n",
      "       'median household disposable income', 'median monthly housing cost',\n",
      "       'unserved population / km2'],\n",
      "      dtype='object')\n"
     ]
    }
   ],
   "source": [
    "# Dictionary mapping old column names to new names\n",
    "rename_dict = {\n",
    "    'medicaid enrollees per km2': 'medicaid enrollees / km2',\n",
    "    'commercial enrollees per km2': 'commercial enrollees / km2',\n",
    "    'insured population per km2_x': 'insured population / km2',\n",
    "    'unserved medicaid enrollees per km2': 'unserved medicaid enrollees / km2',\n",
    "    'unserved commercial insurance enrollees per km2_x': 'unserved commercial enrollees / km2',\n",
    "    'unserved population per km2': 'unserved population / km2',\n",
    "    'avg_land_price_per_sqft_x': 'average land price / ft2',\n",
    "    'agriculture_ratio': 'agricultural land percent',\n",
    "    'residential_ratio': 'residential district percent',\n",
    "    'vacant_ratio': 'vacant land percent',\n",
    "    'commercial_ratio': 'commercial district percent',\n",
    "    'industrial_ratio': 'industrial district percent',\n",
    "    'residential_area_per_sqft': 'residential area / ft2',\n",
    "    'commercial_area_per_sqft': 'commercial area / ft2',\n",
    "    '% workers drove alone': 'drove alone percent',\n",
    "    '% workers carpooled': 'carpooled percent',\n",
    "    '% workers public transit': 'public transit percent',\n",
    "    '% workers walked': 'walked percent',\n",
    "    '% workers worked from home': 'worked from home percent',\n",
    "    'No leisure-time physical activity': 'no leisure-time physical activity',\n",
    "    'Binge drinking': 'binge drinking',\n",
    "    'Sleeping less than 7 hours': 'sleeping less than 7 hours',\n",
    "    'Current smoking': 'current smoking',\n",
    "    'Cholesterol screening': 'cholesterol screening',\n",
    "    'Current lack of health insurance': 'current lack of health insurance',\n",
    "    'Taking medicine for high blood pressure control': 'taking medicine for high blood pressure',\n",
    "    'Visits to dentist or dental clinic': 'visits to dentist or dental clinic',\n",
    "    'Visits to doctor for routine checkup within the past': 'visits to doctor for routine checkup',\n",
    "    'Physical health not good for >=14 days': 'physical health not good for >=14 days',\n",
    "    'Mental health not good for >=14 days': 'mental health not good for >=14 days',\n",
    "    'Fair or poor self-rated health status': 'fair or poor self-rated health status',\n",
    "    'Median household income': 'median household income',\n",
    "    'Median household disposable income': 'median household disposable income',\n",
    "    'Median monthly housing cost': 'median monthly housing cost'\n",
    "}\n",
    " \n",
    "# Rename the columns\n",
    "tracts_with_features_gdf = tracts_with_features_gdf.rename(columns=rename_dict)\n",
    "\n",
    "# Print the updated column names to verify changes\n",
    "print(tracts_with_features_gdf.columns)"
   ]
  },
  {
   "cell_type": "code",
   "execution_count": 57,
   "id": "2eecfc10-6e96-4716-8d9a-230c187d568f",
   "metadata": {},
   "outputs": [
    {
     "name": "stdout",
     "output_type": "stream",
     "text": [
      "EPSG:4326\n"
     ]
    }
   ],
   "source": [
    "tracts_with_features_gdf = gpd.GeoDataFrame(tracts_with_features_gdf, geometry='geometry')\n",
    "tracts_with_features_gdf = tracts_with_features_gdf.to_crs(\"EPSG:4326\")\n",
    "print(tracts_with_features_gdf.crs)"
   ]
  },
  {
   "cell_type": "code",
   "execution_count": 83,
   "id": "0e43772b-5399-4a87-bd46-3256b017c1b8",
   "metadata": {},
   "outputs": [],
   "source": [
    "# Simplify geometries\n",
    "tolerance = 0.0001  # Adjust this based on your specific requirements and units of your CRS\n",
    "tracts_with_features_gdf['geometry'] = tracts_with_features_gdf['geometry'].simplify(tolerance, preserve_topology=True)"
   ]
  },
  {
   "cell_type": "code",
   "execution_count": 100,
   "id": "3eeca793-6fe3-4d5b-9001-875bcc2f9693",
   "metadata": {},
   "outputs": [
    {
     "name": "stdout",
     "output_type": "stream",
     "text": [
      "(974, 36)\n"
     ]
    }
   ],
   "source": [
    "# Remove extreme outliers\n",
    "def remove_outliers(df, exclude=[], multiplier=1.5):\n",
    "    # Focus on columns that are numeric and not in the exclude list\n",
    "    for col in df.select_dtypes(include=[np.number]).columns:\n",
    "        if col not in exclude:\n",
    "            Q1 = df[col].quantile(0.05)\n",
    "            Q3 = df[col].quantile(0.95)\n",
    "            IQR = Q3 - Q1\n",
    "            lower_bound = Q1 - multiplier * IQR\n",
    "            upper_bound = Q3 + multiplier * IQR\n",
    "            \n",
    "            # Filter out outliers from the dataframe\n",
    "            df = df[(df[col] >= lower_bound) & (df[col] <= upper_bound)]\n",
    "    return df\n",
    "\n",
    "tracts_with_features_gdf_clean = remove_outliers(tracts_with_features_gdf, exclude=['GEOID'], multiplier=3)\n",
    "print(tracts_with_features_gdf_clean.shape)"
   ]
  },
  {
   "cell_type": "code",
   "execution_count": 102,
   "id": "d574811f-5141-4765-bcdd-1104562e1aa7",
   "metadata": {},
   "outputs": [],
   "source": [
    "# Simplify geometries\n",
    "tolerance = 0.0001  # Adjust this based on your specific requirements and units of your CRS\n",
    "tracts_with_features_gdf_clean['geometry'] = tracts_with_features_gdf_clean['geometry'].simplify(tolerance, preserve_topology=True)"
   ]
  },
  {
   "cell_type": "code",
   "execution_count": 106,
   "id": "9b5c39b4-3c15-4827-92f2-f3f6e2e7ac38",
   "metadata": {},
   "outputs": [
    {
     "name": "stdout",
     "output_type": "stream",
     "text": [
      "Number of nyc counties: 678\n",
      "Number of upstate counties: 296\n"
     ]
    }
   ],
   "source": [
    "# List of prefixes to match\n",
    "nyc_counties = [\"36005\", \"36047\", \"36061\", \"36081\", \"36085\"]\n",
    "\n",
    "# Create a mask for rows where the first five characters of 'GEOID' match any of the prefixes\n",
    "mask = tracts_with_features_gdf_clean['GEOID'].str[:5].isin(nyc_counties)\n",
    "\n",
    "# Filter the GeoDataFrame based on the mask\n",
    "tracts_with_features_nyc_gdf = tracts_with_features_gdf_clean[mask]\n",
    "\n",
    "# Get rows where the condition does not match\n",
    "tracts_with_features_upstate_gdf = tracts_with_features_gdf_clean[~mask]\n",
    "\n",
    "print(\"Number of nyc counties:\", len(tracts_with_features_nyc_gdf))\n",
    "print(\"Number of upstate counties:\", len(tracts_with_features_upstate_gdf))"
   ]
  },
  {
   "cell_type": "code",
   "execution_count": 107,
   "id": "43348829-ba48-442c-a684-6bfbe72c7856",
   "metadata": {},
   "outputs": [],
   "source": [
    "tracts_with_features_nyc_gdf.to_file('tracts_with_features_nyc.geojson', driver='GeoJSON')\n",
    "tracts_with_features_upstate_gdf.to_file('tracts_with_features_upstate.geojson', driver='GeoJSON')"
   ]
  },
  {
   "cell_type": "markdown",
   "id": "698bc6e1-e8de-4afe-81a1-162864633cf7",
   "metadata": {},
   "source": [
    "### Get min/max values for every column"
   ]
  },
  {
   "cell_type": "code",
   "execution_count": 108,
   "id": "cb92deaf-434f-4cdf-97da-e94842225a8c",
   "metadata": {},
   "outputs": [
    {
     "name": "stdout",
     "output_type": "stream",
     "text": [
      "[{'name': 'medicaid enrollees / km2', 'min': 48.19, 'max': 55472.48}, {'name': 'commercial enrollees / km2', 'min': 214.31, 'max': 42294.7}, {'name': 'insured population / km2', 'min': 316.5, 'max': 76410.9}, {'name': 'unserved medicaid enrollees / km2', 'min': 0.0, 'max': 45610.7}, {'name': 'unserved commercial enrollees / km2', 'min': 0.0, 'max': 12665.9}, {'name': 'average land price / ft2', 'min': 2.67, 'max': 34.29}, {'name': 'agricultural land percent', 'min': 0.0, 'max': 0.0}, {'name': 'residential district percent', 'min': 0.08, 'max': 1.0}, {'name': 'vacant land percent', 'min': 0.0, 'max': 0.53}, {'name': 'commercial district percent', 'min': 0.0, 'max': 0.48}, {'name': 'industrial district percent', 'min': 0.0, 'max': 0.08}, {'name': 'residential area / ft2', 'min': 0.01, 'max': 2.64}, {'name': 'commercial area / ft2', 'min': 0.0, 'max': 1.12}, {'name': 'drove alone percent', 'min': 0.01, 'max': 0.72}, {'name': 'carpooled percent', 'min': 0.0, 'max': 0.28}, {'name': 'public transit percent', 'min': 0.09, 'max': 0.94}, {'name': 'walked percent', 'min': 0.0, 'max': 0.58}, {'name': 'worked from home percent', 'min': 0.0, 'max': 0.34}, {'name': 'no leisure-time physical activity', 'min': 17.5, 'max': 51.2}, {'name': 'binge drinking', 'min': 8.8, 'max': 22.2}, {'name': 'sleeping less than 7 hours', 'min': 28.4, 'max': 46.8}, {'name': 'current smoking', 'min': 7.9, 'max': 30.1}, {'name': 'cholesterol screening', 'min': 70.6, 'max': 92.9}, {'name': 'current lack of health insurance', 'min': 4.1, 'max': 30.4}, {'name': 'taking medicine for high blood pressure', 'min': 57.2, 'max': 86.8}, {'name': 'visits to dentist or dental clinic', 'min': 34.6, 'max': 77.2}, {'name': 'visits to doctor for routine checkup', 'min': 67.4, 'max': 85.6}, {'name': 'physical health not good for >=14 days', 'min': 7.0, 'max': 21.7}, {'name': 'mental health not good for >=14 days', 'min': 10.4, 'max': 27.7}, {'name': 'fair or poor self-rated health status', 'min': 9.4, 'max': 39.1}, {'name': 'median household income', 'min': 17083.0, 'max': 191083.0}, {'name': 'median household disposable income', 'min': 3107.0, 'max': 150067.0}, {'name': 'median monthly housing cost', 'min': 388.0, 'max': 3418.0}, {'name': 'unserved population / km2', 'min': 12.7, 'max': 45610.7}]\n",
      "[{'name': 'medicaid enrollees / km2', 'min': 1.09, 'max': 6413.96}, {'name': 'commercial enrollees / km2', 'min': 6.12, 'max': 6286.56}, {'name': 'insured population / km2', 'min': 10.0, 'max': 7932.0}, {'name': 'unserved medicaid enrollees / km2', 'min': 0.0, 'max': 5970.6}, {'name': 'unserved commercial enrollees / km2', 'min': 0.0, 'max': 2495.3}, {'name': 'average land price / ft2', 'min': 0.0, 'max': 21.45}, {'name': 'agricultural land percent', 'min': 0.0, 'max': 0.18}, {'name': 'residential district percent', 'min': 0.0, 'max': 0.98}, {'name': 'vacant land percent', 'min': 0.0, 'max': 0.46}, {'name': 'commercial district percent', 'min': 0.0, 'max': 0.57}, {'name': 'industrial district percent', 'min': 0.0, 'max': 0.03}, {'name': 'residential area / ft2', 'min': 0.0, 'max': 0.34}, {'name': 'commercial area / ft2', 'min': 0.0, 'max': 0.94}, {'name': 'drove alone percent', 'min': 0.24, 'max': 0.98}, {'name': 'carpooled percent', 'min': 0.0, 'max': 0.3}, {'name': 'public transit percent', 'min': 0.0, 'max': 0.39}, {'name': 'walked percent', 'min': 0.0, 'max': 0.58}, {'name': 'worked from home percent', 'min': 0.0, 'max': 0.34}, {'name': 'no leisure-time physical activity', 'min': 13.4, 'max': 47.6}, {'name': 'binge drinking', 'min': 10.9, 'max': 24.6}, {'name': 'sleeping less than 7 hours', 'min': 25.7, 'max': 46.2}, {'name': 'current smoking', 'min': 7.4, 'max': 40.4}, {'name': 'cholesterol screening', 'min': 63.7, 'max': 92.9}, {'name': 'current lack of health insurance', 'min': 2.7, 'max': 24.1}, {'name': 'taking medicine for high blood pressure', 'min': 56.9, 'max': 83.2}, {'name': 'visits to dentist or dental clinic', 'min': 37.0, 'max': 81.5}, {'name': 'visits to doctor for routine checkup', 'min': 69.3, 'max': 87.2}, {'name': 'physical health not good for >=14 days', 'min': 6.9, 'max': 20.3}, {'name': 'mental health not good for >=14 days', 'min': 9.9, 'max': 29.1}, {'name': 'fair or poor self-rated health status', 'min': 7.6, 'max': 34.6}, {'name': 'median household income', 'min': 19948.0, 'max': 239028.0}, {'name': 'median household disposable income', 'min': 7086.0, 'max': 205404.0}, {'name': 'median monthly housing cost', 'min': 461.0, 'max': 3923.0}, {'name': 'unserved population / km2', 'min': 0.2, 'max': 6514.3}]\n"
     ]
    }
   ],
   "source": [
    "# Get list of {min:x, max:y, name:z} object\n",
    "columns = ['medicaid enrollees / km2',\n",
    "       'commercial enrollees / km2', 'insured population / km2',\n",
    "       'unserved medicaid enrollees / km2',\n",
    "       'unserved commercial enrollees / km2', 'average land price / ft2',\n",
    "       'agricultural land percent', 'residential district percent',\n",
    "       'vacant land percent', 'commercial district percent',\n",
    "       'industrial district percent', 'residential area / ft2',\n",
    "       'commercial area / ft2', 'drove alone percent', 'carpooled percent',\n",
    "       'public transit percent', 'walked percent', 'worked from home percent',\n",
    "       'no leisure-time physical activity', 'binge drinking',\n",
    "       'sleeping less than 7 hours', 'current smoking',\n",
    "       'cholesterol screening', 'current lack of health insurance',\n",
    "       'taking medicine for high blood pressure',\n",
    "       'visits to dentist or dental clinic',\n",
    "       'visits to doctor for routine checkup',\n",
    "       'physical health not good for >=14 days',\n",
    "       'mental health not good for >=14 days',\n",
    "       'fair or poor self-rated health status', 'median household income',\n",
    "       'median household disposable income', 'median monthly housing cost',\n",
    "       'unserved population / km2']\n",
    "\n",
    "stats_list_nyc = [\n",
    "    {\n",
    "        'name': col,\n",
    "        'min': tracts_with_features_nyc_gdf[col].min(),\n",
    "        'max': tracts_with_features_nyc_gdf[col].max()\n",
    "    } \n",
    "    for col in columns\n",
    "]\n",
    "stats_list_upstate = [\n",
    "    {\n",
    "        'name': col,\n",
    "        'min': tracts_with_features_upstate_gdf[col].min(),\n",
    "        'max': tracts_with_features_upstate_gdf[col].max()\n",
    "    } \n",
    "    for col in columns\n",
    "]\n",
    "\n",
    "# Display the resulting list of dictionaries\n",
    "print(stats_list_nyc)\n",
    "print(stats_list_upstate)"
   ]
  },
  {
   "cell_type": "markdown",
   "id": "ead13798-c533-4409-b677-a9807401e4a8",
   "metadata": {},
   "source": [
    "### Export non-shortage tracts"
   ]
  },
  {
   "cell_type": "code",
   "execution_count": 116,
   "id": "938fd681-d112-485a-ba69-9d3fb796bca1",
   "metadata": {},
   "outputs": [],
   "source": [
    "tracts_gdf = gpd.read_file('./data/tracts.geojson')\n",
    "tracts_gdf = tracts_gdf[['geometry', 'GEOID']]\n",
    "tracts_gdf['GEOID'] = tracts_gdf['GEOID'].astype(str)\n",
    "\n",
    "# Simplify geometries\n",
    "tolerance = 0.00002  # Adjust this based on your specific requirements and units of your CRS\n",
    "tracts_gdf['geometry'] = tracts_gdf['geometry'].simplify(tolerance, preserve_topology=True)\n",
    "\n",
    "# Get a list of 'GEOID' values from tracts_with_features_gdf_clean\n",
    "geoid_to_exclude = tracts_with_features_gdf_clean['GEOID'].unique()\n",
    "\n",
    "# Apply the mask to tracts_gdf to drop the rows where 'GEOID' matches those in tracts_with_features_gdf_clean\n",
    "tracts_gdf_filtered = tracts_gdf[~tracts_gdf['GEOID'].isin(geoid_to_exclude)]\n",
    "\n",
    "# Export\n",
    "tracts_gdf_filtered.to_file('tracts_filtered.geojson', driver='GeoJSON')"
   ]
  },
  {
   "cell_type": "code",
   "execution_count": null,
   "id": "22ed5f15-2250-4c80-a156-43e7844c01eb",
   "metadata": {},
   "outputs": [],
   "source": []
  }
 ],
 "metadata": {
  "kernelspec": {
   "display_name": "Python 3 (ipykernel)",
   "language": "python",
   "name": "python3"
  },
  "language_info": {
   "codemirror_mode": {
    "name": "ipython",
    "version": 3
   },
   "file_extension": ".py",
   "mimetype": "text/x-python",
   "name": "python",
   "nbconvert_exporter": "python",
   "pygments_lexer": "ipython3",
   "version": "3.10.11"
  }
 },
 "nbformat": 4,
 "nbformat_minor": 5
}
