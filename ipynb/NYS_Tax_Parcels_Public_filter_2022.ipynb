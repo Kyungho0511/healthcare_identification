{
 "cells": [
  {
   "cell_type": "code",
   "execution_count": 1,
   "id": "12dafe6b-4514-4ba5-be36-b2e9b7604ca3",
   "metadata": {},
   "outputs": [],
   "source": [
    "import numpy as np\n",
    "import pandas as pd\n",
    "import geopandas as gpd"
   ]
  },
  {
   "cell_type": "code",
   "execution_count": 3,
   "id": "2a3b1d58-8746-4c34-a39d-ca3b420797f6",
   "metadata": {},
   "outputs": [],
   "source": [
    "file_path = './data/NYS_2022_Tax_Parcels_Public.geojson'\n",
    "gdf = gpd.read_file(file_path)"
   ]
  },
  {
   "cell_type": "code",
   "execution_count": 36,
   "id": "e80243a6-3db5-44a6-91e4-b13af20a4f99",
   "metadata": {},
   "outputs": [],
   "source": [
    "# Filter columns to keep\n",
    "columns_to_keep =  [\"geometry\", \"OBJECTID\", \"COUNTY_NAME\", \"PARCEL_ADDR\", \"SBL\", \"CITYTOWN_NAME\", \"LOC_STREET\", \"LOC_ZIP\", \"PROP_CLASS\", \"LAND_AV\", \"TOTAL_AV\", \"FULL_MARKET_VAL\", \"YR_BLT\", \"FRONT\", \"DEPTH\", \"SQ_FT\", \"SQFT_LIVING\", \"GFA\", \"SPATIAL_YR\"]\n",
    "gdf_subset = gdf[columns_to_keep]\n",
    "\n",
    "\n",
    "# Match land classification codes of NYC with other counties\n",
    "counties_nyc = [\"Kings\", \"Bronx\", \"NewYork\", \"Queens\", \"Richmond\"]\n",
    "\n",
    "# Edit \"PROP_CLASS\" for non-NYC counties\n",
    "gdf_subset.loc[~gdf_subset['COUNTY_NAME'].isin(counties_nyc), 'PROP_CLASS'] = gdf_subset.loc[~gdf_subset['COUNTY_NAME'].isin(counties_nyc), 'PROP_CLASS'].str[0]\n",
    "\n",
    "# Edit \"PROP_CLASS\" for NYC counties (nyc_residential --> '2' Residential)\n",
    "nyc_residential = ['01', '02', '03']\n",
    "gdf_subset.loc[gdf_subset['PROP_CLASS'].isin(nyc_residential), 'PROP_CLASS'] = '2'\n",
    "\n",
    "# Edit \"PROP_CLASS\" for NYC counties (nyc_commercial --> '4' Commercial)\n",
    "nyc_commercial = ['05']\n",
    "gdf_subset.loc[gdf_subset['PROP_CLASS'].isin(nyc_commercial), 'PROP_CLASS'] = '4'\n",
    "\n",
    "# Edit \"PROP_CLASS\" for NYC counties (nyc_industrial --> '7' Industrial)\n",
    "nyc_industrial = ['06']\n",
    "gdf_subset.loc[gdf_subset['PROP_CLASS'].isin(nyc_industrial), 'PROP_CLASS'] = '7'\n",
    "\n",
    "# Edit \"PROP_CLASS\" for NYC counties (nyc_transportation --> '8' Public services)\n",
    "nyc_transportation = ['07']\n",
    "gdf_subset.loc[gdf_subset['PROP_CLASS'].isin(nyc_transportation), 'PROP_CLASS'] = '8'\n",
    "\n",
    "# Edit \"PROP_CLASS\" for NYC counties (nyc_institutions --> '6' Community services)\n",
    "nyc_institutions = ['08']\n",
    "gdf_subset.loc[gdf_subset['PROP_CLASS'].isin(nyc_institutions), 'PROP_CLASS'] = '6'\n",
    "\n",
    "# Edit \"PROP_CLASS\" for NYC counties (nyc_outdoor --> '9' public parks)\n",
    "nyc_outdoor = ['09']\n",
    "gdf_subset.loc[gdf_subset['PROP_CLASS'].isin(nyc_outdoor), 'PROP_CLASS'] = '9'\n",
    "\n",
    "# Edit \"PROP_CLASS\" for NYC counties (nyc_parking --> null)\n",
    "nyc_parking = ['10']\n",
    "gdf_subset.loc[gdf_subset['PROP_CLASS'].isin(nyc_parking), 'PROP_CLASS'] = None\n",
    "\n",
    "# Edit \"PROP_CLASS\" for NYC counties (nyc_vacant --> '3' vacant land)\n",
    "nyc_vacant = ['11']\n",
    "gdf_subset.loc[gdf_subset['PROP_CLASS'].isin(nyc_vacant), 'PROP_CLASS'] = '3'\n",
    "\n",
    "# Edit \"PROP_CLASS\" for NYC counties ('04' --> '10' Mixed Residential & Commercial)\n",
    "nyc_mixed = ['04']\n",
    "gdf_subset.loc[gdf_subset['PROP_CLASS'].isin(nyc_mixed), 'PROP_CLASS'] = '10'"
   ]
  },
  {
   "cell_type": "code",
   "execution_count": 38,
   "id": "8ef24fe4-cc1f-4c3d-a5bf-5574c5cebb1a",
   "metadata": {},
   "outputs": [],
   "source": [
    "gdf_subset.to_file('./outputs/NYS_2022_Tax_Parcels_Public_32Counties.geojson', driver='GeoJSON')"
   ]
  },
  {
   "cell_type": "markdown",
   "id": "af3d472b-29ed-42bb-bf1b-82d9f9cfb8a1",
   "metadata": {},
   "source": [
    "### Prepare parcel data for Profitability / built environment clustering"
   ]
  },
  {
   "cell_type": "code",
   "execution_count": 4,
   "id": "c7a906cc-0b97-40fd-b65e-f083fca3417c",
   "metadata": {},
   "outputs": [],
   "source": [
    "parcels_gdf = gpd.read_file('./data/NYS_2022_Tax_Parcels_Public_32Counties.geojson')"
   ]
  },
  {
   "cell_type": "code",
   "execution_count": 5,
   "id": "ecfad24f-98be-4943-91ad-aa939e290892",
   "metadata": {},
   "outputs": [
    {
     "name": "stdout",
     "output_type": "stream",
     "text": [
      "EPSG:32016\n"
     ]
    }
   ],
   "source": [
    "print(parcels_gdf.crs)"
   ]
  },
  {
   "cell_type": "code",
   "execution_count": 47,
   "id": "b688cb58-fb12-4e2a-8826-d233a265de65",
   "metadata": {},
   "outputs": [
    {
     "name": "stderr",
     "output_type": "stream",
     "text": [
      "C:\\Users\\kl3539\\AppData\\Local\\Temp\\ipykernel_38084\\2562789518.py:11: FutureWarning: Setting an item of incompatible dtype is deprecated and will raise in a future error of pandas. Value '0.5' has dtype incompatible with int32, please explicitly cast to a compatible dtype first.\n",
      "  parcels_gdf.loc[parcels_gdf['PROP_CLASS'] == 10, 'residential'] = 0.5\n",
      "C:\\Users\\kl3539\\AppData\\Local\\Temp\\ipykernel_38084\\2562789518.py:12: FutureWarning: Setting an item of incompatible dtype is deprecated and will raise in a future error of pandas. Value '0.5' has dtype incompatible with int32, please explicitly cast to a compatible dtype first.\n",
      "  parcels_gdf.loc[parcels_gdf['PROP_CLASS'] == 10, 'commercial'] = 0.5\n"
     ]
    }
   ],
   "source": [
    "parcels_gdf['PROP_CLASS'] = pd.to_numeric(parcels_gdf['PROP_CLASS'], errors='coerce')\n",
    "\n",
    "parcels_gdf['area_sqft'] = parcels_gdf.area\n",
    "parcels_gdf['land_price_per_sqft(dollars)'] = (parcels_gdf['LAND_AV'] / parcels_gdf['area_sqft']).round(2)\n",
    "\n",
    "parcels_gdf['agriculture'] = (parcels_gdf['PROP_CLASS'] == 1).astype(int)\n",
    "parcels_gdf['residential'] = (parcels_gdf['PROP_CLASS'] == 2).astype(int)\n",
    "parcels_gdf['vacant'] = (parcels_gdf['PROP_CLASS'] == 3).astype(int)\n",
    "parcels_gdf['commercial'] = (parcels_gdf['PROP_CLASS'] == 4).astype(int)\n",
    "parcels_gdf['industrial'] = (parcels_gdf['PROP_CLASS'] == 7).astype(int)\n",
    "parcels_gdf.loc[parcels_gdf['PROP_CLASS'] == 10, 'residential'] = 0.5\n",
    "parcels_gdf.loc[parcels_gdf['PROP_CLASS'] == 10, 'commercial'] = 0.5"
   ]
  },
  {
   "cell_type": "code",
   "execution_count": 54,
   "id": "161eb1bf-7e03-44cf-8d9e-229c9584fe75",
   "metadata": {},
   "outputs": [
    {
     "ename": "AttributeError",
     "evalue": "You are calling a geospatial method on the GeoDataFrame, but the active geometry column ('geometry') is not present. \nThere are columns with geometry data type (['centroid']), and you can either set one as the active geometry with df.set_geometry(\"name\") or access the column as a GeoSeries (df[\"name\"]) and call the method directly on it.",
     "output_type": "error",
     "traceback": [
      "\u001b[1;31m---------------------------------------------------------------------------\u001b[0m",
      "\u001b[1;31mAttributeError\u001b[0m                            Traceback (most recent call last)",
      "Cell \u001b[1;32mIn[54], line 1\u001b[0m\n\u001b[1;32m----> 1\u001b[0m parcels_gdf[\u001b[38;5;124m'\u001b[39m\u001b[38;5;124mcentroid\u001b[39m\u001b[38;5;124m'\u001b[39m] \u001b[38;5;241m=\u001b[39m \u001b[43mparcels_gdf\u001b[49m\u001b[38;5;241;43m.\u001b[39;49m\u001b[43mgeometry\u001b[49m\u001b[38;5;241m.\u001b[39mcentroid\n\u001b[0;32m      2\u001b[0m columns_to_keep \u001b[38;5;241m=\u001b[39m [\u001b[38;5;124m'\u001b[39m\u001b[38;5;124mSQFT_LIVING\u001b[39m\u001b[38;5;124m'\u001b[39m, \u001b[38;5;124m'\u001b[39m\u001b[38;5;124mGFA\u001b[39m\u001b[38;5;124m'\u001b[39m, \u001b[38;5;124m'\u001b[39m\u001b[38;5;124mcentroid\u001b[39m\u001b[38;5;124m'\u001b[39m, \u001b[38;5;124m'\u001b[39m\u001b[38;5;124mland_price_per_sqft(dollars)\u001b[39m\u001b[38;5;124m'\u001b[39m, \u001b[38;5;124m'\u001b[39m\u001b[38;5;124magriculture\u001b[39m\u001b[38;5;124m'\u001b[39m, \u001b[38;5;124m'\u001b[39m\u001b[38;5;124mresidential\u001b[39m\u001b[38;5;124m'\u001b[39m, \u001b[38;5;124m'\u001b[39m\u001b[38;5;124mvacant\u001b[39m\u001b[38;5;124m'\u001b[39m, \u001b[38;5;124m'\u001b[39m\u001b[38;5;124mcommercial\u001b[39m\u001b[38;5;124m'\u001b[39m, \u001b[38;5;124m'\u001b[39m\u001b[38;5;124mindustrial\u001b[39m\u001b[38;5;124m'\u001b[39m]\n\u001b[0;32m      3\u001b[0m parcels_gdf \u001b[38;5;241m=\u001b[39m parcels_gdf[columns_to_keep]\n",
      "File \u001b[1;32m~\\AppData\\Local\\miniconda3\\Lib\\site-packages\\pandas\\core\\generic.py:6204\u001b[0m, in \u001b[0;36mNDFrame.__getattr__\u001b[1;34m(self, name)\u001b[0m\n\u001b[0;32m   6197\u001b[0m \u001b[38;5;28;01mif\u001b[39;00m (\n\u001b[0;32m   6198\u001b[0m     name \u001b[38;5;129;01mnot\u001b[39;00m \u001b[38;5;129;01min\u001b[39;00m \u001b[38;5;28mself\u001b[39m\u001b[38;5;241m.\u001b[39m_internal_names_set\n\u001b[0;32m   6199\u001b[0m     \u001b[38;5;129;01mand\u001b[39;00m name \u001b[38;5;129;01mnot\u001b[39;00m \u001b[38;5;129;01min\u001b[39;00m \u001b[38;5;28mself\u001b[39m\u001b[38;5;241m.\u001b[39m_metadata\n\u001b[0;32m   6200\u001b[0m     \u001b[38;5;129;01mand\u001b[39;00m name \u001b[38;5;129;01mnot\u001b[39;00m \u001b[38;5;129;01min\u001b[39;00m \u001b[38;5;28mself\u001b[39m\u001b[38;5;241m.\u001b[39m_accessors\n\u001b[0;32m   6201\u001b[0m     \u001b[38;5;129;01mand\u001b[39;00m \u001b[38;5;28mself\u001b[39m\u001b[38;5;241m.\u001b[39m_info_axis\u001b[38;5;241m.\u001b[39m_can_hold_identifiers_and_holds_name(name)\n\u001b[0;32m   6202\u001b[0m ):\n\u001b[0;32m   6203\u001b[0m     \u001b[38;5;28;01mreturn\u001b[39;00m \u001b[38;5;28mself\u001b[39m[name]\n\u001b[1;32m-> 6204\u001b[0m \u001b[38;5;28;01mreturn\u001b[39;00m \u001b[38;5;28;43mobject\u001b[39;49m\u001b[38;5;241;43m.\u001b[39;49m\u001b[38;5;21;43m__getattribute__\u001b[39;49m\u001b[43m(\u001b[49m\u001b[38;5;28;43mself\u001b[39;49m\u001b[43m,\u001b[49m\u001b[43m \u001b[49m\u001b[43mname\u001b[49m\u001b[43m)\u001b[49m\n",
      "File \u001b[1;32m~\\AppData\\Local\\miniconda3\\Lib\\site-packages\\geopandas\\geodataframe.py:236\u001b[0m, in \u001b[0;36mGeoDataFrame._get_geometry\u001b[1;34m(self)\u001b[0m\n\u001b[0;32m    229\u001b[0m     \u001b[38;5;28;01melse\u001b[39;00m:\n\u001b[0;32m    230\u001b[0m         msg \u001b[38;5;241m+\u001b[39m\u001b[38;5;241m=\u001b[39m (\n\u001b[0;32m    231\u001b[0m             \u001b[38;5;124m\"\u001b[39m\u001b[38;5;130;01m\\n\u001b[39;00m\u001b[38;5;124mThere are no existing columns with geometry data type. You can \u001b[39m\u001b[38;5;124m\"\u001b[39m\n\u001b[0;32m    232\u001b[0m             \u001b[38;5;124m\"\u001b[39m\u001b[38;5;124madd a geometry column as the active geometry column with \u001b[39m\u001b[38;5;124m\"\u001b[39m\n\u001b[0;32m    233\u001b[0m             \u001b[38;5;124m\"\u001b[39m\u001b[38;5;124mdf.set_geometry. \u001b[39m\u001b[38;5;124m\"\u001b[39m\n\u001b[0;32m    234\u001b[0m         )\n\u001b[1;32m--> 236\u001b[0m     \u001b[38;5;28;01mraise\u001b[39;00m \u001b[38;5;167;01mAttributeError\u001b[39;00m(msg)\n\u001b[0;32m    237\u001b[0m \u001b[38;5;28;01mreturn\u001b[39;00m \u001b[38;5;28mself\u001b[39m[\u001b[38;5;28mself\u001b[39m\u001b[38;5;241m.\u001b[39m_geometry_column_name]\n",
      "\u001b[1;31mAttributeError\u001b[0m: You are calling a geospatial method on the GeoDataFrame, but the active geometry column ('geometry') is not present. \nThere are columns with geometry data type (['centroid']), and you can either set one as the active geometry with df.set_geometry(\"name\") or access the column as a GeoSeries (df[\"name\"]) and call the method directly on it."
     ]
    }
   ],
   "source": [
    "parcels_gdf['centroid'] = parcels_gdf.geometry.centroid\n",
    "columns_to_keep = ['SQFT_LIVING', 'GFA', 'centroid', 'land_price_per_sqft(dollars)', 'agriculture', 'residential', 'vacant', 'commercial', 'industrial']\n",
    "parcels_gdf = parcels_gdf[columns_to_keep]"
   ]
  },
  {
   "cell_type": "code",
   "execution_count": 59,
   "id": "af6f788b-47b7-48fa-b69f-2fa6a8c1bba6",
   "metadata": {},
   "outputs": [],
   "source": [
    "parcels_gdf.rename(columns={'centroid': 'geometry'}, inplace=True)\n",
    "parcels_gdf['SQFT_LIVING'].fillna(0, inplace=True)\n",
    "parcels_gdf['GFA'].fillna(0, inplace=True)"
   ]
  },
  {
   "cell_type": "code",
   "execution_count": 60,
   "id": "e5ce8ad3-f038-4ea8-aae5-91cb8c3d4cb4",
   "metadata": {},
   "outputs": [],
   "source": [
    "parcels_gdf.to_file('NYS_Tax_Parcels_Public_Points_2022.geojson', driver='GeoJSON')"
   ]
  },
  {
   "cell_type": "code",
   "execution_count": null,
   "id": "d818d994-0245-4f69-ace3-34b532f7bf3d",
   "metadata": {},
   "outputs": [],
   "source": []
  }
 ],
 "metadata": {
  "kernelspec": {
   "display_name": "Python 3 (ipykernel)",
   "language": "python",
   "name": "python3"
  },
  "language_info": {
   "codemirror_mode": {
    "name": "ipython",
    "version": 3
   },
   "file_extension": ".py",
   "mimetype": "text/x-python",
   "name": "python",
   "nbconvert_exporter": "python",
   "pygments_lexer": "ipython3",
   "version": "3.11.5"
  }
 },
 "nbformat": 4,
 "nbformat_minor": 5
}
