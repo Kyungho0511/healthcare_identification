{
 "cells": [
  {
   "cell_type": "code",
   "execution_count": 1,
   "id": "9af9c399-8189-42d5-a611-2200f1437a0e",
   "metadata": {},
   "outputs": [],
   "source": [
    "import pandas as pd\n",
    "import geopandas as gpd\n",
    "import numpy as np\n",
    "import matplotlib.pyplot as plt"
   ]
  },
  {
   "cell_type": "code",
   "execution_count": 8,
   "id": "5af6f718-829a-4095-8f4c-a24a906e65ac",
   "metadata": {},
   "outputs": [
    {
     "name": "stdout",
     "output_type": "stream",
     "text": [
      "The history saving thread hit an unexpected error (OperationalError('database is locked')).History will not be written to the database.\n"
     ]
    }
   ],
   "source": [
    "parcel_points_gdf = gpd.read_file('./data/NYS_Tax_Parcels_Public_Points_2022.geojson')"
   ]
  },
  {
   "cell_type": "code",
   "execution_count": 7,
   "id": "5ded483e-6215-4680-972d-03c66ca83def",
   "metadata": {},
   "outputs": [
    {
     "name": "stdout",
     "output_type": "stream",
     "text": [
      "        GEO_ID drove alone carpooled public transit walked  \\\n",
      "1  36001000100         306       201            176     53   \n",
      "2  36001000201         425       132            178    234   \n",
      "3  36001000202         598       311            256     35   \n",
      "4  36001000301         382       239            473     44   \n",
      "5  36001000302        1118       243            135     11   \n",
      "\n",
      "  taxicab, motorcycle, bicycle, or other means worked from home  \n",
      "1                                           58                0  \n",
      "2                                           71              141  \n",
      "3                                            0              116  \n",
      "4                                           91                0  \n",
      "5                                            0              271  \n"
     ]
    }
   ],
   "source": [
    "transportation_df = pd.read_csv('./data/Means of Transportation to Work by Vehicles Available (ACSDT5Y2022.B08141)/ACSDT5Y2022.B08141-Data.csv')\n",
    "transportation_df = transportation_df.iloc[1:, :]\n",
    "\n",
    "columns_to_keep = ['GEO_ID', 'B08141_006E', 'B08141_011E', 'B08141_016E', 'B08141_021E', 'B08141_026E', 'B08141_031E']\n",
    "transportation_df = transportation_df[columns_to_keep]\n",
    "transportation_df.rename(columns={'B08141_006E': 'drove alone', 'B08141_011E': 'carpooled', 'B08141_016E': 'public transit', 'B08141_021E': 'walked', 'B08141_026E': 'taxicab, motorcycle, bicycle, or other means', 'B08141_031E': 'worked from home'}, inplace=True)\n",
    "transportation_df['GEO_ID'] = transportation_df['GEO_ID'].str.slice(-11)\n",
    "\n",
    "print(transportation_df.head())"
   ]
  },
  {
   "cell_type": "code",
   "execution_count": null,
   "id": "aeb3e2d6-458d-4f18-8ee0-12d130e54eda",
   "metadata": {},
   "outputs": [],
   "source": []
  }
 ],
 "metadata": {
  "kernelspec": {
   "display_name": "Python 3 (ipykernel)",
   "language": "python",
   "name": "python3"
  },
  "language_info": {
   "codemirror_mode": {
    "name": "ipython",
    "version": 3
   },
   "file_extension": ".py",
   "mimetype": "text/x-python",
   "name": "python",
   "nbconvert_exporter": "python",
   "pygments_lexer": "ipython3",
   "version": "3.11.5"
  }
 },
 "nbformat": 4,
 "nbformat_minor": 5
}
