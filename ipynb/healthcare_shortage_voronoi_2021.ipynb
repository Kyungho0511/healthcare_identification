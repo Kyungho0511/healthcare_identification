{
 "cells": [
  {
   "cell_type": "code",
   "execution_count": 1,
   "id": "84cb14b4-df3a-4f26-b630-3d973406dd3c",
   "metadata": {},
   "outputs": [],
   "source": [
    "import pandas as pd\n",
    "import geopandas as gpd\n",
    "import numpy as np\n",
    "import matplotlib.pyplot as plt\n",
    "from shapely.geometry import Polygon, Point\n",
    "from scipy.spatial import Voronoi"
   ]
  },
  {
   "cell_type": "code",
   "execution_count": 3,
   "id": "cead056b-a07b-475a-96bb-bc2fb2f5776f",
   "metadata": {},
   "outputs": [],
   "source": [
    "insurance_df = pd.read_csv('./data/health_insurance_coverage_2021.csv')\n",
    "pcp_medicaid_df = pd.read_csv('./data/pcp_medicaid_2021.csv')\n",
    "pcp_commercial_df = pd.read_csv('./data/pcp_commercial_2021.csv')\n",
    "\n",
    "# Load the shapefile to create polygons and Filter out polygons where 'AWATER' is larger than 'ALAND'\n",
    "tracts_gdf = gpd.read_file('./data/tl_2021_36_tract/tl_2021_36_tract.shp')\n",
    "tracts_gdf = tracts_gdf[tracts_gdf['AWATER'] <= tracts_gdf['ALAND']]"
   ]
  },
  {
   "cell_type": "code",
   "execution_count": 4,
   "id": "73f6eb71-d5e9-4cc2-9a47-183f53044d7e",
   "metadata": {},
   "outputs": [],
   "source": [
    "# Convert the DataFrame into a GeoDataFrame for Medicaid\n",
    "pcp_medicaid_gdf = gpd.GeoDataFrame(pcp_medicaid_df, geometry=gpd.points_from_xy(pcp_medicaid_df.Longitude, pcp_medicaid_df.Latitude))\n",
    "\n",
    "# Convert the DataFrame into a GeoDataFrame for Commercial\n",
    "pcp_commercial_gdf = gpd.GeoDataFrame(pcp_commercial_df, geometry=gpd.points_from_xy(pcp_commercial_df.Longitude, pcp_commercial_df.Latitude))"
   ]
  },
  {
   "cell_type": "code",
   "execution_count": null,
   "id": "c96fb5a4-7f9e-467b-96de-3f09e15d3724",
   "metadata": {},
   "outputs": [],
   "source": [
    "points = np.array([point.xy for point in gdf.geometry])"
   ]
  }
 ],
 "metadata": {
  "kernelspec": {
   "display_name": "Python 3 (ipykernel)",
   "language": "python",
   "name": "python3"
  },
  "language_info": {
   "codemirror_mode": {
    "name": "ipython",
    "version": 3
   },
   "file_extension": ".py",
   "mimetype": "text/x-python",
   "name": "python",
   "nbconvert_exporter": "python",
   "pygments_lexer": "ipython3",
   "version": "3.11.5"
  }
 },
 "nbformat": 4,
 "nbformat_minor": 5
}
