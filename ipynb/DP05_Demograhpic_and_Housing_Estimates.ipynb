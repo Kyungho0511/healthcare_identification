{
 "cells": [
  {
   "cell_type": "code",
   "execution_count": 63,
   "id": "e42a014c-67b2-4314-bc87-63f8db59a6fd",
   "metadata": {},
   "outputs": [],
   "source": [
    "import pandas as pd\n",
    "import numpy as np"
   ]
  },
  {
   "cell_type": "code",
   "execution_count": 64,
   "id": "d3bafff6-686c-46fa-bc75-7270d0ae806a",
   "metadata": {},
   "outputs": [
    {
     "name": "stderr",
     "output_type": "stream",
     "text": [
      "C:\\Users\\kl3539\\AppData\\Local\\Temp\\ipykernel_18292\\3456149983.py:2: DtypeWarning: Columns (2,3,4,5,6,7,10,11,12,13,14,15,16,17,18,19,20,21,22,23,24,25,26,27,28,29,30,31,32,33,34,35,38,39,40,41,42,43,44,45,46,47,48,49,50,51,52,53,54,55,58,59,60,61,62,63,66,67,68,69,70,71,72,73,74,75,76,77,78,79,80,81,82,83,84,85,86,87,88,89,90,91,92,93,94,95,96,97,98,99,100,101,102,103,104,105,106,107,108,109,110,111,112,113,114,115,116,117,118,119,120,121,122,123,124,125,126,127,128,129,130,131,132,133,134,135,136,137,138,139,140,141,142,143,144,145,146,147,148,149,150,151,152,153,154,155,156,157,158,159,160,161,162,163,164,165,166,167,168,169,170,171,172,173,174,175,176,177,178,179,180,181,182,183,184,232,240,248,312,326,360) have mixed types. Specify dtype option on import or set low_memory=False.\n",
      "  df = pd.read_csv(file_path)\n"
     ]
    }
   ],
   "source": [
    "file_path = './data/DP05 Demograhpic and Housing Estimates/ACSDP5Y2022.DP05-Data.csv'\n",
    "df = pd.read_csv(file_path)"
   ]
  },
  {
   "cell_type": "code",
   "execution_count": 65,
   "id": "d9ac865a-9509-440d-96f7-5e2a795cbb1b",
   "metadata": {},
   "outputs": [],
   "source": [
    "# Filter New York census tracts\n",
    "df['GEO_ID'] = df['GEO_ID'].str[-11:]\n",
    "filtered_df = df[df['GEO_ID'].str.startswith('36')]\n",
    "\n",
    "# Get the columns to keep\n",
    "columns_to_keep = [\"GEO_ID\", \"DP05_0002PE\", \"DP05_0003PE\", \n",
    "\"DP05_0019PE\", \"DP05_0024PE\", \n",
    "\"DP05_0037PE\", \"DP05_0038PE\", \"DP05_0039PE\", \"DP05_0044PE\", \"DP05_0073PE\"]\n",
    "filtered_df = filtered_df[columns_to_keep]\n",
    "\n",
    "# Rename columns\n",
    "filtered_df.rename(columns={\n",
    "    \"GEO_ID\" : 'GEOID',\n",
    "    'DP05_0002PE' : 'male',\n",
    "    'DP05_0003PE' : 'female',\n",
    "    \"DP05_0019PE\" : 'under 18years',\n",
    "    \"DP05_0024PE\" : '65year and over',\n",
    "    \"DP05_0037PE\" : 'white', \n",
    "    \"DP05_0038PE\" : 'black or african american',\n",
    "    \"DP05_0072PE\" : 'hispanic or latino',\n",
    "    \"DP05_0039PE\" : 'american indian and alaska native', \n",
    "    \"DP05_0044PE\" : 'asian', \n",
    "    \"DP05_0073PE\" : 'hispanic or latino'\n",
    "}, inplace=True)\n",
    "\n",
    "# Replace '-' with NaN or another value\n",
    "filtered_df.replace('-', float('nan'), inplace=True)\n",
    "filtered_df = filtered_df.dropna()\n",
    "\n",
    "# Now convert all columns to float\n",
    "filtered_df = filtered_df.astype(float)\n",
    "\n",
    "filtered_df[\"18 to 64years\"] = 100.0 - filtered_df[\"under 18years\"] - filtered_df[\"65year and over\"]"
   ]
  },
  {
   "cell_type": "code",
   "execution_count": 66,
   "id": "9fa276ff-9e16-4e5f-84c4-e42b8185cf99",
   "metadata": {},
   "outputs": [],
   "source": [
    "# export to csv files\n",
    "file_path = './demograhpic_2022.csv'\n",
    "filtered_df.to_csv(file_path, index=False)"
   ]
  }
 ],
 "metadata": {
  "kernelspec": {
   "display_name": "Python 3 (ipykernel)",
   "language": "python",
   "name": "python3"
  },
  "language_info": {
   "codemirror_mode": {
    "name": "ipython",
    "version": 3
   },
   "file_extension": ".py",
   "mimetype": "text/x-python",
   "name": "python",
   "nbconvert_exporter": "python",
   "pygments_lexer": "ipython3",
   "version": "3.11.5"
  }
 },
 "nbformat": 4,
 "nbformat_minor": 5
}
