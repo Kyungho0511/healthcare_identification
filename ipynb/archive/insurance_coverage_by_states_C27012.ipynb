{
 "cells": [
  {
   "cell_type": "code",
   "execution_count": 23,
   "id": "915c8303",
   "metadata": {},
   "outputs": [],
   "source": [
    "import pandas as pd\n",
    "import math"
   ]
  },
  {
   "cell_type": "code",
   "execution_count": 24,
   "id": "5dec3a99",
   "metadata": {},
   "outputs": [],
   "source": [
    "file_path_2010 = '../data/C27012 Health Insurance Coverage Status and Type by Work Experience/ACSDT1Y2010.C27012.csv'\n",
    "file_path_2022 = '../data/C27012 Health Insurance Coverage Status and Type by Work Experience/ACSDT1Y2022.C27012.csv'\n",
    "df_2010 = pd.read_csv(file_path_2010)\n",
    "df_2022 = pd.read_csv(file_path_2022)"
   ]
  },
  {
   "cell_type": "code",
   "execution_count": 25,
   "id": "4a75c3e1",
   "metadata": {},
   "outputs": [],
   "source": [
    "# Delete the first column\n",
    "df_2010 = df_2010.drop(df_2010.columns[0], axis=1)\n",
    "df_2022 = df_2022.drop(df_2022.columns[0], axis=1)\n",
    "\n",
    "# Get the columns to keep (every other column)\n",
    "columns_to_keep_2010 = df_2010.columns[::2]\n",
    "columns_to_keep_2022 = df_2022.columns[::2]\n",
    "df_2010 = df_2010[columns_to_keep_2010]\n",
    "df_2022 = df_2022[columns_to_keep_2022]\n",
    "\n",
    "# Remove commas and convert the column to numeric\n",
    "for column in df_2010.columns: \n",
    "    df_2010[column] = df_2010[column].str.replace(',', '').astype(int)\n",
    "for column in df_2022.columns: \n",
    "    df_2022[column] = df_2022[column].str.replace(',', '').astype(int)"
   ]
  },
  {
   "cell_type": "code",
   "execution_count": 26,
   "id": "346ae0de",
   "metadata": {},
   "outputs": [],
   "source": [
    "# Rows to compute sum for\n",
    "specific_rows_2010 = [[0], [4, 5, 11, 12, 19, 20, 26, 27, 34, 35, 41, 42], [7, 14, 22, 29, 37, 44], [8, 15, 23, 30, 38, 45]]\n",
    "specific_rows_2022 = [[0], [3, 4, 10, 11, 17, 18], [6, 13, 20], [7, 14, 21]]\n",
    "\n",
    "# Create a new DataFrame to store the sums of specific rows for each column\n",
    "sums_df_2010 = pd.DataFrame(columns=df_2010.columns)\n",
    "sums_df_2022 = pd.DataFrame(columns=df_2022.columns)\n",
    "\n",
    "# Iterate through each column and calculate the sum for specific rows\n",
    "for i, specific_row in enumerate(specific_rows_2010):\n",
    "    for column in df_2010.columns:\n",
    "        sum_values = df_2010.iloc[specific_row, :][column].sum()\n",
    "        sums_df_2010.at[i, column] = int(sum_values)\n",
    "        \n",
    "for i, specific_row in enumerate(specific_rows_2022):\n",
    "    for column in df_2022.columns:\n",
    "        sum_values = df_2022.iloc[specific_row, :][column].sum()\n",
    "        sums_df_2022.at[i, column] = int(sum_values)"
   ]
  },
  {
   "cell_type": "code",
   "execution_count": 27,
   "id": "c443e006",
   "metadata": {},
   "outputs": [],
   "source": [
    "# Add percentage data for each insurance coverage 2010\n",
    "private_percent_2010 = []\n",
    "medicaid_percent_2010 = []\n",
    "uninsured_percent_2010 = []\n",
    "for column in sums_df_2010.columns:\n",
    "    private = round(sums_df_2010[column][1] / sums_df_2010[column][0] * 100, 1)\n",
    "    medicaid = round(sums_df_2010[column][2] / sums_df_2010[column][0] * 100, 1)\n",
    "    uninsured = round(sums_df_2010[column][3] / sums_df_2010[column][0] * 100, 1)\n",
    "    private_percent_2010.append(private)\n",
    "    medicaid_percent_2010.append(medicaid)\n",
    "    uninsured_percent_2010.append(uninsured)\n",
    "    \n",
    "# Add percentage data for each insurance coverage 2022\n",
    "private_percent_2022 = []\n",
    "medicaid_percent_2022 = []\n",
    "uninsured_percent_2022 = []\n",
    "for column in sums_df_2010.columns:\n",
    "    private = round(sums_df_2022[column][1] / sums_df_2022[column][0] * 100, 1)\n",
    "    medicaid = round(sums_df_2022[column][2] / sums_df_2022[column][0] * 100, 1)\n",
    "    uninsured = round(sums_df_2022[column][3] / sums_df_2022[column][0] * 100, 1)\n",
    "    private_percent_2022.append(private)\n",
    "    medicaid_percent_2022.append(medicaid)\n",
    "    uninsured_percent_2022.append(uninsured)\n",
    "\n",
    "# Flip the DataFrame matrix\n",
    "sums_df_2010 = sums_df_2010.transpose()\n",
    "sums_df_2022 = sums_df_2022.transpose()\n",
    "\n",
    "# Add geo_ids to the flipped data as a new column\n",
    "geo_ids = ['01', '02', '04', '05', '06', '08', '09', '10', '11', '12', '13', '15', '16', '17', '18', '19', '20', '21', '22', '23', '24', '25', '26', '27', '28', '29', '30', '31', '32', '33', '34', '35', '36', '37', '38', '39', '40', '41', '42', '44', '45', '46', '47', '48', '49', '50', '51', '53', '54', '55', '56', '72']\n",
    "\n",
    "sums_df_2010.columns = [\"total\", \"private\", \"medicaid\", \"uninsured\"]\n",
    "sums_df_2010[\"private_percent\"] = private_percent_2010\n",
    "sums_df_2010[\"medicaid_percent\"] = medicaid_percent_2010\n",
    "sums_df_2010[\"uninsured_percent\"] = uninsured_percent_2010\n",
    "sums_df_2010[\"geo_id\"] = geo_ids\n",
    "\n",
    "sums_df_2022.columns = [\"total\", \"private\", \"medicaid\", \"uninsured\"]\n",
    "sums_df_2022[\"private_percent\"] = private_percent_2022\n",
    "sums_df_2022[\"medicaid_percent\"] = medicaid_percent_2022\n",
    "sums_df_2022[\"uninsured_percent\"] = uninsured_percent_2022\n",
    "sums_df_2022[\"geo_id\"] = geo_ids"
   ]
  },
  {
   "cell_type": "code",
   "execution_count": 28,
   "id": "5b13064b",
   "metadata": {},
   "outputs": [],
   "source": [
    "# File path where you want to save the CSV file\n",
    "output_file_path_2010 = '../data/outputs/insurance_coverage_by_states_2010.csv'\n",
    "output_file_path_2022 = '../data/outputs/insurance_coverage_by_states_2022.csv'\n",
    "\n",
    "# Export 'result_df' DataFrame to a CSV file\n",
    "sums_df_2010.to_csv(output_file_path_2010, index=False)\n",
    "sums_df_2022.to_csv(output_file_path_2022, index=False)"
   ]
  }
 ],
 "metadata": {
  "kernelspec": {
   "display_name": "Python 3 (ipykernel)",
   "language": "python",
   "name": "python3"
  },
  "language_info": {
   "codemirror_mode": {
    "name": "ipython",
    "version": 3
   },
   "file_extension": ".py",
   "mimetype": "text/x-python",
   "name": "python",
   "nbconvert_exporter": "python",
   "pygments_lexer": "ipython3",
   "version": "3.10.11"
  }
 },
 "nbformat": 4,
 "nbformat_minor": 5
}
