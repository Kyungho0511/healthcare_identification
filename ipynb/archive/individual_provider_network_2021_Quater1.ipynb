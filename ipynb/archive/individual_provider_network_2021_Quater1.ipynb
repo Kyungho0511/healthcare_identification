{
 "cells": [
  {
   "cell_type": "code",
   "execution_count": 1,
   "id": "7a0d0ec3",
   "metadata": {},
   "outputs": [],
   "source": [
    "import pandas as pd"
   ]
  },
  {
   "cell_type": "code",
   "execution_count": 2,
   "id": "b090acbb",
   "metadata": {},
   "outputs": [
    {
     "name": "stderr",
     "output_type": "stream",
     "text": [
      "C:\\Users\\kyung\\AppData\\Local\\Temp\\ipykernel_31036\\3141834340.py:2: DtypeWarning: Columns (3,58,60,61,62,63,64,70,71) have mixed types. Specify dtype option on import or set low_memory=False.\n",
      "  df_2021 = pd.read_csv(file_path)\n"
     ]
    }
   ],
   "source": [
    "file_path = './data/Individual_Provider_Network_Data__2021_Quarter_1.csv'\n",
    "df_2021 = pd.read_csv(file_path)"
   ]
  },
  {
   "cell_type": "code",
   "execution_count": 76,
   "id": "205b582d",
   "metadata": {},
   "outputs": [],
   "source": [
    "# Get the columns to keep (every other column)\n",
    "selected_columns = ['Medicaid Provider Indicator', 'Borough/County Code', 'County', 'State']\n",
    "df_filter_2021 = df_2021[selected_columns]\n",
    "df_filter_2021 = df_filter_2021[df_filter_2021['State'] == 'NY']\n",
    "df_filter_2021['Borough/County Code'] = df_filter_2021['Borough/County Code'].astype(int)\n",
    "\n",
    "# Filter rows where 'County' is not equal to 0, extract the last three characters\n",
    "df_filter_2021['Borough/County Code'] = df_filter_2021['Borough/County Code'].astype(str).str[-3:]"
   ]
  },
  {
   "cell_type": "code",
   "execution_count": 80,
   "id": "4a912add",
   "metadata": {},
   "outputs": [],
   "source": [
    "# Rename column names\n",
    "df_filter_2021 = df_filter_2021.rename(columns={df_filter_2021.columns[1]: 'COUNTYFP'})\n",
    "\n",
    "# Group by 'county' column and count occurrences of 0 or 1 in 'indicator' column\n",
    "grouped = df_filter_2021.groupby(['COUNTYFP'])['Medicaid Provider Indicator'].value_counts().unstack().fillna(0)\n",
    "\n",
    "# Calculate ratio of 1s to the total occurrences of 0s and 1s\n",
    "grouped['medicaid_acceptance_rate'] = grouped[1] / (grouped[0] + grouped[1])\n",
    "grouped['medicaid_acceptance_rate'] = (grouped['medicaid_acceptance_rate'] * 100).round(1)\n",
    "\n",
    "# Reset index to keep 'COUNTYFP' as a column\n",
    "grouped = grouped.reset_index()\n",
    "\n",
    "# Rename column names\n",
    "grouped = grouped.rename(columns={grouped.columns[1]: 'medicaid_rejected'})\n",
    "grouped = grouped.rename(columns={grouped.columns[2]: 'medicaid_accepted'})"
   ]
  },
  {
   "cell_type": "code",
   "execution_count": 81,
   "id": "9469ea34",
   "metadata": {},
   "outputs": [],
   "source": [
    "# File path where you want to save the CSV file\n",
    "output_file_path = './data/outputs/medicaid_acceptance_rate_counties_2021_Quater1.csv'\n",
    "\n",
    "# Export 'result_df' DataFrame to a CSV file\n",
    "grouped.to_csv(output_file_path, index=False)"
   ]
  },
  {
   "cell_type": "code",
   "execution_count": null,
   "id": "0d26db0d",
   "metadata": {},
   "outputs": [],
   "source": []
  }
 ],
 "metadata": {
  "kernelspec": {
   "display_name": "Python 3 (ipykernel)",
   "language": "python",
   "name": "python3"
  },
  "language_info": {
   "codemirror_mode": {
    "name": "ipython",
    "version": 3
   },
   "file_extension": ".py",
   "mimetype": "text/x-python",
   "name": "python",
   "nbconvert_exporter": "python",
   "pygments_lexer": "ipython3",
   "version": "3.10.11"
  }
 },
 "nbformat": 4,
 "nbformat_minor": 5
}
