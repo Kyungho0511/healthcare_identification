{
 "cells": [
  {
   "cell_type": "code",
   "execution_count": 2,
   "id": "9ab76afc",
   "metadata": {},
   "outputs": [],
   "source": [
    "import pandas as pd"
   ]
  },
  {
   "cell_type": "code",
   "execution_count": 53,
   "id": "80e340d3",
   "metadata": {},
   "outputs": [],
   "source": [
    "file_path_2012 = './data/C27012 Health Insurance Coverage Status and Type by Work Experience (Counties)/ACSDT5Y2012.C27012-Data.csv'\n",
    "file_path_2021 = './data/C27012 Health Insurance Coverage Status and Type by Work Experience (Counties)/ACSDT5Y2021.C27012-Data.csv'\n",
    "df_2012 = pd.read_csv(file_path_2012)\n",
    "df_2021 = pd.read_csv(file_path_2021)\n",
    "\n",
    "# Delete the first column\n",
    "df_2012 = df_2012.drop(0)\n",
    "df_2021 = df_2021.drop(0)\n",
    "\n",
    "# Edit GEO_ID rows\n",
    "df_2012['GEO_ID'] = df_2012['GEO_ID'].astype(str).str[-5:]\n",
    "df_2021['GEO_ID'] = df_2021['GEO_ID'].astype(str).str[-5:]\n",
    "\n",
    "# filter NY counties only\n",
    "df_2012 = df_2012[df_2012['GEO_ID'].astype(str).str[:2] == '36']\n",
    "df_2021 = df_2021[df_2021['GEO_ID'].astype(str).str[:2] == '36']\n",
    "\n",
    "# Edit GEO_ID rows\n",
    "df_2012['GEO_ID'] = df_2012['GEO_ID'].astype(str).str[-3:]\n",
    "df_2021['GEO_ID'] = df_2021['GEO_ID'].astype(str).str[-3:]"
   ]
  },
  {
   "cell_type": "code",
   "execution_count": 61,
   "id": "b56f044c",
   "metadata": {},
   "outputs": [
    {
     "name": "stderr",
     "output_type": "stream",
     "text": [
      "C:\\Users\\kyung\\AppData\\Local\\Temp\\ipykernel_1560\\2122195303.py:10: SettingWithCopyWarning: \n",
      "A value is trying to be set on a copy of a slice from a DataFrame.\n",
      "Try using .loc[row_indexer,col_indexer] = value instead\n",
      "\n",
      "See the caveats in the documentation: https://pandas.pydata.org/pandas-docs/stable/user_guide/indexing.html#returning-a-view-versus-a-copy\n",
      "  df_filter_2012[columns_to_convert_2012] = df_filter_2012[columns_to_convert_2012].astype(int)\n",
      "C:\\Users\\kyung\\AppData\\Local\\Temp\\ipykernel_1560\\2122195303.py:11: SettingWithCopyWarning: \n",
      "A value is trying to be set on a copy of a slice from a DataFrame.\n",
      "Try using .loc[row_indexer,col_indexer] = value instead\n",
      "\n",
      "See the caveats in the documentation: https://pandas.pydata.org/pandas-docs/stable/user_guide/indexing.html#returning-a-view-versus-a-copy\n",
      "  df_filter_2021[columns_to_convert_2021] = df_filter_2021[columns_to_convert_2021].astype(int)\n",
      "C:\\Users\\kyung\\AppData\\Local\\Temp\\ipykernel_1560\\2122195303.py:14: SettingWithCopyWarning: \n",
      "A value is trying to be set on a copy of a slice from a DataFrame.\n",
      "Try using .loc[row_indexer,col_indexer] = value instead\n",
      "\n",
      "See the caveats in the documentation: https://pandas.pydata.org/pandas-docs/stable/user_guide/indexing.html#returning-a-view-versus-a-copy\n",
      "  df_filter_2012['medicaid enrollments'] = df_filter_2012.iloc[:, -6:].sum(axis=1)\n",
      "C:\\Users\\kyung\\AppData\\Local\\Temp\\ipykernel_1560\\2122195303.py:15: SettingWithCopyWarning: \n",
      "A value is trying to be set on a copy of a slice from a DataFrame.\n",
      "Try using .loc[row_indexer,col_indexer] = value instead\n",
      "\n",
      "See the caveats in the documentation: https://pandas.pydata.org/pandas-docs/stable/user_guide/indexing.html#returning-a-view-versus-a-copy\n",
      "  df_filter_2021['medicaid enrollments'] = df_filter_2021.iloc[:, -3:].sum(axis=1)\n",
      "C:\\Users\\kyung\\AppData\\Local\\Temp\\ipykernel_1560\\2122195303.py:18: SettingWithCopyWarning: \n",
      "A value is trying to be set on a copy of a slice from a DataFrame.\n",
      "Try using .loc[row_indexer,col_indexer] = value instead\n",
      "\n",
      "See the caveats in the documentation: https://pandas.pydata.org/pandas-docs/stable/user_guide/indexing.html#returning-a-view-versus-a-copy\n",
      "  df_filter_2012['medicaid ratio'] = df_filter_2012['medicaid enrollments'] / df_filter_2012['C27012_001E'] * 100\n",
      "C:\\Users\\kyung\\AppData\\Local\\Temp\\ipykernel_1560\\2122195303.py:19: SettingWithCopyWarning: \n",
      "A value is trying to be set on a copy of a slice from a DataFrame.\n",
      "Try using .loc[row_indexer,col_indexer] = value instead\n",
      "\n",
      "See the caveats in the documentation: https://pandas.pydata.org/pandas-docs/stable/user_guide/indexing.html#returning-a-view-versus-a-copy\n",
      "  df_filter_2012['medicaid ratio'] = df_filter_2012['medicaid ratio'].round(1)\n",
      "C:\\Users\\kyung\\AppData\\Local\\Temp\\ipykernel_1560\\2122195303.py:20: SettingWithCopyWarning: \n",
      "A value is trying to be set on a copy of a slice from a DataFrame.\n",
      "Try using .loc[row_indexer,col_indexer] = value instead\n",
      "\n",
      "See the caveats in the documentation: https://pandas.pydata.org/pandas-docs/stable/user_guide/indexing.html#returning-a-view-versus-a-copy\n",
      "  df_filter_2021['medicaid ratio'] = df_filter_2021['medicaid enrollments'] / df_filter_2021['C27012_001E'] * 100\n",
      "C:\\Users\\kyung\\AppData\\Local\\Temp\\ipykernel_1560\\2122195303.py:21: SettingWithCopyWarning: \n",
      "A value is trying to be set on a copy of a slice from a DataFrame.\n",
      "Try using .loc[row_indexer,col_indexer] = value instead\n",
      "\n",
      "See the caveats in the documentation: https://pandas.pydata.org/pandas-docs/stable/user_guide/indexing.html#returning-a-view-versus-a-copy\n",
      "  df_filter_2021['medicaid ratio'] = df_filter_2021['medicaid ratio'].round(1)\n"
     ]
    }
   ],
   "source": [
    "# Get the columns to keep (every other column)\n",
    "columns_to_keep_2012 = ['GEO_ID', 'C27012_001E', 'C27012_008E', 'C27012_015E', 'C27012_023E', 'C27012_030E', 'C27012_038E', 'C27012_045E']\n",
    "columns_to_keep_2021 = ['GEO_ID', 'C27012_001E', 'C27012_007E', 'C27012_014E', 'C27012_021E']\n",
    "df_filter_2012 = df_2012[columns_to_keep_2012]\n",
    "df_filter_2021 = df_2021[columns_to_keep_2021]\n",
    "\n",
    "# Convert selected columns to integer type\n",
    "columns_to_convert_2012 = df_filter_2012.columns[1:]\n",
    "columns_to_convert_2021 = df_filter_2021.columns[1:]\n",
    "df_filter_2012[columns_to_convert_2012] = df_filter_2012[columns_to_convert_2012].astype(int)\n",
    "df_filter_2021[columns_to_convert_2021] = df_filter_2021[columns_to_convert_2021].astype(int)\n",
    "\n",
    "# Sum values across the last three columns and store the result in a new column 'Sum_Result'\n",
    "df_filter_2012['medicaid enrollments'] = df_filter_2012.iloc[:, -6:].sum(axis=1)\n",
    "df_filter_2021['medicaid enrollments'] = df_filter_2021.iloc[:, -3:].sum(axis=1)\n",
    "\n",
    "# Get the medicaid ratio\n",
    "df_filter_2012['medicaid ratio'] = df_filter_2012['medicaid enrollments'] / df_filter_2012['C27012_001E'] * 100\n",
    "df_filter_2012['medicaid ratio'] = df_filter_2012['medicaid ratio'].round(1)\n",
    "df_filter_2021['medicaid ratio'] = df_filter_2021['medicaid enrollments'] / df_filter_2021['C27012_001E'] * 100\n",
    "df_filter_2021['medicaid ratio'] = df_filter_2021['medicaid ratio'].round(1)\n",
    "\n",
    "# Get the columns to keep\n",
    "columns_to_keep = ['GEO_ID', 'medicaid enrollments', 'medicaid ratio']\n",
    "df_filter_2012 = df_filter_2012[columns_to_keep]\n",
    "df_filter_2021 = df_filter_2021[columns_to_keep]"
   ]
  },
  {
   "cell_type": "code",
   "execution_count": 64,
   "id": "e894080a",
   "metadata": {},
   "outputs": [],
   "source": [
    "# File path where you want to save the CSV file\n",
    "output_file_path_2012 = './data/outputs/medicaid_by_counties_2012.csv'\n",
    "output_file_path_2021 = './data/outputs/medicaid_by_counties_2021.csv'\n",
    "\n",
    "# Export 'result_df' DataFrame to a CSV file\n",
    "df_filter_2012.to_csv(output_file_path_2012, index=False)\n",
    "df_filter_2021.to_csv(output_file_path_2021, index=False)"
   ]
  },
  {
   "cell_type": "code",
   "execution_count": null,
   "id": "2af62259",
   "metadata": {},
   "outputs": [],
   "source": []
  }
 ],
 "metadata": {
  "kernelspec": {
   "display_name": "Python 3 (ipykernel)",
   "language": "python",
   "name": "python3"
  },
  "language_info": {
   "codemirror_mode": {
    "name": "ipython",
    "version": 3
   },
   "file_extension": ".py",
   "mimetype": "text/x-python",
   "name": "python",
   "nbconvert_exporter": "python",
   "pygments_lexer": "ipython3",
   "version": "3.10.11"
  }
 },
 "nbformat": 4,
 "nbformat_minor": 5
}
