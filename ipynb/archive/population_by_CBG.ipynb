{
 "cells": [
  {
   "cell_type": "code",
   "execution_count": 1,
   "id": "8478f20c",
   "metadata": {},
   "outputs": [],
   "source": [
    "import pandas as pd"
   ]
  },
  {
   "cell_type": "code",
   "execution_count": 36,
   "id": "cddfefe4",
   "metadata": {},
   "outputs": [],
   "source": [
    "file_path = './data/DECENNIALPL2020.P1-Data_BlockID_Extracted.csv'\n",
    "data = pd.read_csv(file_path)"
   ]
  },
  {
   "cell_type": "code",
   "execution_count": 37,
   "id": "8f780e51",
   "metadata": {},
   "outputs": [
    {
     "name": "stdout",
     "output_type": "stream",
     "text": [
      "     GEO_ID  Population\n",
      "0   0702001         613\n",
      "1   0702002         773\n",
      "2   0702003         856\n",
      "3   0703001         951\n",
      "4   0703002        1109\n",
      "5   0704001         584\n",
      "6   0704002        1412\n",
      "7   0705001        1647\n",
      "8   0705002        1056\n",
      "9   0706001         810\n",
      "10  0706002        1201\n",
      "11  0707001        1011\n",
      "12  0707002        1614\n",
      "13  0708001        1390\n",
      "14  0708002        1569\n",
      "15  0709001        1623\n",
      "16  0721001        1252\n",
      "17  0721002        1942\n",
      "18  0721003        1340\n",
      "19  0721004        1023\n",
      "20  0722001         785\n",
      "21  0722002         908\n",
      "22  0722003         959\n",
      "23  0722004         920\n",
      "24  0723001        1337\n",
      "25  0723002        1852\n",
      "26  0724001        1083\n",
      "27  0724002        1515\n",
      "28  0725001         761\n",
      "29  0725002         924\n",
      "30  0725003         993\n",
      "31  0725004        1488\n",
      "32  0726001        1379\n",
      "33  0726002        1418\n",
      "34  0726003         863\n",
      "35  0727001        1062\n",
      "36  0727002        1138\n",
      "37  0727003        1449\n",
      "38  0727004         900\n",
      "39  0728001        1211\n",
      "40  0728002         833\n",
      "41  0728003         900\n",
      "42  0728004        1078\n"
     ]
    }
   ],
   "source": [
    "data['GEO_ID'] = data['GEO_ID'].str[:-3]\n",
    "\n",
    "# Extract distinct values from the first column\n",
    "distinct_values = data['GEO_ID'].unique()\n",
    "\n",
    "# Group by distinct values in 'FirstColumn' and sum up 'Values'\n",
    "sum_values = {val: data[data['GEO_ID'] == val][' !!Total:'].sum() for val in distinct_values}\n",
    "\n",
    "# Convert the result to a DataFrame\n",
    "result_df = pd.DataFrame(list(sum_values.items()), columns=['GEO_ID', 'Population'])\n",
    "\n",
    "# Adjust GEO_ID\n",
    "result_df['GEO_ID'] = result_df['GEO_ID'].str[14:]\n",
    "print(result_df)"
   ]
  },
  {
   "cell_type": "code",
   "execution_count": 39,
   "id": "54cddfe1",
   "metadata": {},
   "outputs": [
    {
     "name": "stdout",
     "output_type": "stream",
     "text": [
      "CSV file './data/outputs/population_by_CBG.csv' has been created.\n"
     ]
    }
   ],
   "source": [
    "# File path where you want to save the CSV file\n",
    "output_file_path = './data/outputs/population_by_CBG.csv'\n",
    "\n",
    "# Export 'result_df' DataFrame to a CSV file\n",
    "result_df.to_csv(output_file_path, index=False)\n",
    "\n",
    "print(f\"CSV file '{output_file_path}' has been created.\")"
   ]
  },
  {
   "cell_type": "code",
   "execution_count": null,
   "id": "89a89a2b",
   "metadata": {},
   "outputs": [],
   "source": []
  }
 ],
 "metadata": {
  "kernelspec": {
   "display_name": "Python 3 (ipykernel)",
   "language": "python",
   "name": "python3"
  },
  "language_info": {
   "codemirror_mode": {
    "name": "ipython",
    "version": 3
   },
   "file_extension": ".py",
   "mimetype": "text/x-python",
   "name": "python",
   "nbconvert_exporter": "python",
   "pygments_lexer": "ipython3",
   "version": "3.10.11"
  }
 },
 "nbformat": 4,
 "nbformat_minor": 5
}
