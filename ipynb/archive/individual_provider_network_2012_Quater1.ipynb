{
 "cells": [
  {
   "cell_type": "code",
   "execution_count": 3,
   "id": "25f8e5ab",
   "metadata": {},
   "outputs": [],
   "source": [
    "import pandas as pd"
   ]
  },
  {
   "cell_type": "code",
   "execution_count": 4,
   "id": "30ddbebb",
   "metadata": {},
   "outputs": [
    {
     "name": "stderr",
     "output_type": "stream",
     "text": [
      "C:\\Users\\kyung\\AppData\\Local\\Temp\\ipykernel_26512\\1574146377.py:2: DtypeWarning: Columns (2,3,4,5,62,68,70,72,74,82,83,84) have mixed types. Specify dtype option on import or set low_memory=False.\n",
      "  df_2012 = pd.read_csv(file_path, encoding='cp1252')\n"
     ]
    }
   ],
   "source": [
    "file_path = './data/Individual_Provider_Network_Data__2012_Quarter_1.csv'\n",
    "df_2012 = pd.read_csv(file_path, encoding='cp1252')"
   ]
  },
  {
   "cell_type": "code",
   "execution_count": 7,
   "id": "ff4fbcb8",
   "metadata": {},
   "outputs": [],
   "source": [
    "# Get the columns to keep (every other column)\n",
    "selected_columns = ['Lname', 'Fname', 'sitename', 'staddres', 'city', 'state', 'county', 'mcaidind']\n",
    "df_filter_2012 = df_2012[selected_columns]\n",
    "\n",
    "# Group by 'county' column and count occurrences of 0 or 1 in 'indicator' column\n",
    "grouped = df_filter_2012.groupby(['county'])['mcaidind'].value_counts().unstack().fillna(0)\n",
    "\n",
    "# Calculate ratio of 1s to the total occurrences of 0s and 1s\n",
    "grouped['medicaid_acceptance_rate'] = grouped[1] / (grouped[0] + grouped[1])\n",
    "grouped['medicaid_acceptance_rate'] = (grouped['medicaid_acceptance_rate'] * 100).round(1)\n",
    "\n",
    "# Reset index to keep 'county' as a column\n",
    "grouped = grouped.reset_index()\n",
    "\n",
    "# Rename column names\n",
    "grouped = grouped.rename(columns={grouped.columns[1]: 'medicaid_rejected'})\n",
    "grouped = grouped.rename(columns={grouped.columns[2]: 'medicaid_accepted'})"
   ]
  },
  {
   "cell_type": "code",
   "execution_count": 6,
   "id": "2c3c373b",
   "metadata": {},
   "outputs": [],
   "source": [
    "# File path where you want to save the CSV file\n",
    "output_file_path = './data/outputs/medicaid_acceptance_rate_counties_2012_Quater1.csv'\n",
    "\n",
    "# Export 'result_df' DataFrame to a CSV file\n",
    "grouped.to_csv(output_file_path, index=False)"
   ]
  },
  {
   "cell_type": "code",
   "execution_count": 8,
   "id": "716f08bd",
   "metadata": {},
   "outputs": [
    {
     "name": "stdout",
     "output_type": "stream",
     "text": [
      "                 Lname       Fname         npi  licnum    medsid      planid  \\\n",
      "0                  LIU     XIN-HUI  1245565456     946       NaN         NaN   \n",
      "1                   DU      KEPING  1649397084    1481       NaN         NaN   \n",
      "2                   LI  CHANGSHENG  1154554996    2681       NaN         NaN   \n",
      "3              MOLLICA       PETER  1285683508    3105       NaN         NaN   \n",
      "4               HARRIS   MARIANTHA  1275615973    3547       NaN         NaN   \n",
      "...                ...         ...         ...     ...       ...         ...   \n",
      "1033596        Appollo    Jennifer  1578896825  401210  03244906  1578896825   \n",
      "1033597         Dorsey       Doris  1255411732  420117   2791353  1255411732   \n",
      "1033598  Ortiz-Morales       Hilda  1902008832  430029  02931822  1902008832   \n",
      "1033599         Garcia      Haydee  1720215015  430323  03322694  1720215015   \n",
      "1033600         Garcia      Haydee  1720215015  430323  03322694  1720215015   \n",
      "\n",
      "                                  sitename rmnumber                  staddres  \\\n",
      "0                             LIU, XIN-HUI      NaN  42-11 College Point Blvd   \n",
      "1                               DU, KEPING      NaN        193 N Wellwood Ave   \n",
      "2                           CHANG SHENG LI      NaN           175 KING STREET   \n",
      "3                         PETER W MOLLICA.      NaN     585 Schenectady Ave..   \n",
      "4        BRONX METRO HEALTHCARE MEDICAL PC      NaN           432 EAST 149 ST   \n",
      "...                                    ...      ...                       ...   \n",
      "1033596              HELP PSI SERVICES INC      NaN        1543 Inwood Avenue   \n",
      "1033597                           MMC CHCC      NaN     305 East 161st Street   \n",
      "1033598             MMC FAMILY CARE CENTER       XX       3444 Kossuth Avenue   \n",
      "1033599       COMMUNITY HEALTHCARE NETWORK      NaN         36-11 21st Street   \n",
      "1033600       COMMUNITY HEALTHCARE NETWORK      NaN        97-04 Sutphin Blvd   \n",
      "\n",
      "                city  ... Lang3  Lang4  Lang5  Lang6  Lang7  areacode  \\\n",
      "0           FLUSHING  ...   NaN     ZH    NaN    NaN    NaN       718   \n",
      "1        LINDENHURST  ...   NaN     ZH    NaN    NaN    NaN       917   \n",
      "2          CHAPPAGUA  ...   NaN     ZH    NaN    NaN    NaN       914   \n",
      "3           BROOKLYN  ...   NaN    NaN    NaN    NaN    NaN       718   \n",
      "4              BRONX  ...   NaN    NaN    NaN    NaN    NaN       718   \n",
      "...              ...  ...   ...    ...    ...    ...    ...       ...   \n",
      "1033596        BRONX  ...    99     99     99     99     99       718   \n",
      "1033597        BRONX  ...    99     99     99     99     99       718   \n",
      "1033598        BRONX  ...    99     99     99     99     99       718   \n",
      "1033599      ASTORIA  ...    99     99     99     99     99       718   \n",
      "1033600      JAMAICA  ...    99     99     99     99     99       718   \n",
      "\n",
      "           phone     planno                     plan           subtime  \n",
      "0        3219688  1234037.0  COMPREHENSIVE CARE MGMT  01APR12:00:00:00  \n",
      "1        2997486  1234037.0  COMPREHENSIVE CARE MGMT  01APR12:00:00:00  \n",
      "2        2380041  1234037.0  COMPREHENSIVE CARE MGMT  01APR12:00:00:00  \n",
      "3        6045388  1234037.0  COMPREHENSIVE CARE MGMT  01APR12:00:00:00  \n",
      "4        6187522  1234037.0  COMPREHENSIVE CARE MGMT  01APR12:00:00:00  \n",
      "...          ...        ...                      ...               ...  \n",
      "1033596  2995500        NaN        SELECT HEALTH SNP  01APR12:00:00:00  \n",
      "1033597  5792500        NaN        SELECT HEALTH SNP  01APR12:00:00:00  \n",
      "1033598  9208542        NaN        SELECT HEALTH SNP  01APR12:00:00:00  \n",
      "1033599  4827772        NaN        SELECT HEALTH SNP  01APR12:00:00:00  \n",
      "1033600  6577088        NaN        SELECT HEALTH SNP  01APR12:00:00:00  \n",
      "\n",
      "[1033601 rows x 90 columns]\n"
     ]
    }
   ],
   "source": [
    "print(df_2012['county'])"
   ]
  },
  {
   "cell_type": "code",
   "execution_count": null,
   "id": "583f5b7e",
   "metadata": {},
   "outputs": [],
   "source": []
  }
 ],
 "metadata": {
  "kernelspec": {
   "display_name": "Python 3 (ipykernel)",
   "language": "python",
   "name": "python3"
  },
  "language_info": {
   "codemirror_mode": {
    "name": "ipython",
    "version": 3
   },
   "file_extension": ".py",
   "mimetype": "text/x-python",
   "name": "python",
   "nbconvert_exporter": "python",
   "pygments_lexer": "ipython3",
   "version": "3.10.11"
  }
 },
 "nbformat": 4,
 "nbformat_minor": 5
}
