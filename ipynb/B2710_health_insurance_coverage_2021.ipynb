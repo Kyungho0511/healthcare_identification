{
 "cells": [
  {
   "cell_type": "code",
   "execution_count": 1,
   "id": "5d102b68-854e-4a4c-a2bd-1441ff0a9c5c",
   "metadata": {},
   "outputs": [],
   "source": [
    "import pandas as pd\n",
    "import numpy as np"
   ]
  },
  {
   "cell_type": "code",
   "execution_count": 21,
   "id": "abe4728c-2a5f-45d6-8fd0-a6856871bd83",
   "metadata": {
    "scrolled": true
   },
   "outputs": [
    {
     "name": "stderr",
     "output_type": "stream",
     "text": [
      "C:\\Users\\kl3539\\AppData\\Local\\Temp\\ipykernel_24456\\201244896.py:2: DtypeWarning: Columns (2,3,4,5,6,7,8,9,10,11,12,13,14,15,16,17,18,19,20,21,22,23,24,25,26,27,28,29,30,31,32,33,34,35,36,37,38,39,40,41,42,43,44,45,46,47,48,49,50,51,52,53,54,55,56,57,58,59,60,61,62,63,64,65,66,67,68,69,70,71,72,73,74,75,76,77,78,79,80,81,82,83,84,85,86,87,88,89,90,91,92,93,94,95,96,97,98,99,100,101,102,103,104,105,106,107,108,109,110,111,112,113,114,115,116,117,118,119,120,121,122,123,124,125,126,127,128,129,130,131,132,133) have mixed types. Specify dtype option on import or set low_memory=False.\n",
      "  df = pd.read_csv(file_path)\n",
      "C:\\Users\\kl3539\\AppData\\Local\\Temp\\ipykernel_24456\\201244896.py:16: SettingWithCopyWarning: \n",
      "A value is trying to be set on a copy of a slice from a DataFrame.\n",
      "Try using .loc[row_indexer,col_indexer] = value instead\n",
      "\n",
      "See the caveats in the documentation: https://pandas.pydata.org/pandas-docs/stable/user_guide/indexing.html#returning-a-view-versus-a-copy\n",
      "  df_insurance['medicaid'] = df['B27010_023M'] + df['B27010_039E']\n",
      "C:\\Users\\kl3539\\AppData\\Local\\Temp\\ipykernel_24456\\201244896.py:17: SettingWithCopyWarning: \n",
      "A value is trying to be set on a copy of a slice from a DataFrame.\n",
      "Try using .loc[row_indexer,col_indexer] = value instead\n",
      "\n",
      "See the caveats in the documentation: https://pandas.pydata.org/pandas-docs/stable/user_guide/indexing.html#returning-a-view-versus-a-copy\n",
      "  df_insurance['commercial'] = df['B27010_020E'] + df['B27010_021E'] + df['B27010_036E'] + df['B27010_037E']\n",
      "C:\\Users\\kl3539\\AppData\\Local\\Temp\\ipykernel_24456\\201244896.py:20: SettingWithCopyWarning: \n",
      "A value is trying to be set on a copy of a slice from a DataFrame.\n",
      "Try using .loc[row_indexer,col_indexer] = value instead\n",
      "\n",
      "See the caveats in the documentation: https://pandas.pydata.org/pandas-docs/stable/user_guide/indexing.html#returning-a-view-versus-a-copy\n",
      "  df_insurance['GEOID'] = df_insurance['GEO_ID'].str[-11:]\n",
      "C:\\Users\\kl3539\\AppData\\Local\\Temp\\ipykernel_24456\\201244896.py:21: SettingWithCopyWarning: \n",
      "A value is trying to be set on a copy of a slice from a DataFrame\n",
      "\n",
      "See the caveats in the documentation: https://pandas.pydata.org/pandas-docs/stable/user_guide/indexing.html#returning-a-view-versus-a-copy\n",
      "  df_insurance.drop(columns=['GEO_ID'], inplace=True)\n"
     ]
    }
   ],
   "source": [
    "file_path = './data/B2710 TYPES OF HEALTH INSURANCE COVERAGE BY AGE (CENSUS TRACTS)/ACSDT5Y2021.B27010-Data.csv'\n",
    "df = pd.read_csv(file_path)\n",
    "\n",
    "# Delete the first column\n",
    "df = df.drop(0)\n",
    "\n",
    "# Convert selected columns to integer type\n",
    "columns_to_convert = ['B27010_023M', 'B27010_039E', 'B27010_020E', 'B27010_021E', 'B27010_036E', 'B27010_037E']\n",
    "df[columns_to_convert] = df[columns_to_convert].astype(int)\n",
    "\n",
    "# Get the columns to keep \n",
    "columns_to_keep = ['GEO_ID', 'NAME']\n",
    "df_insurance = df[columns_to_keep]\n",
    "\n",
    "# Add up counts from all age groups (19-64 age group with either medicaid or commercial plans)\n",
    "df_insurance['medicaid'] = df['B27010_023M'] + df['B27010_039E']\n",
    "df_insurance['commercial'] = df['B27010_020E'] + df['B27010_021E'] + df['B27010_036E'] + df['B27010_037E']\n",
    "\n",
    "# Match GEO_ID format with that of census tract polygons for spatial join\n",
    "df_insurance['GEOID'] = df_insurance['GEO_ID'].str[-11:]\n",
    "df_insurance.drop(columns=['GEO_ID'], inplace=True)"
   ]
  },
  {
   "cell_type": "code",
   "execution_count": 22,
   "id": "8db2dc5d-5790-4529-abd6-f5d9c4c164d3",
   "metadata": {},
   "outputs": [],
   "source": [
    "# export to csv files\n",
    "file_path = './outputs/health_insurance_coverage_2021.csv'\n",
    "df_insurance.to_csv(file_path, index=False)"
   ]
  },
  {
   "cell_type": "code",
   "execution_count": null,
   "id": "35230211-1de6-4e42-b38d-f99410cc21f9",
   "metadata": {},
   "outputs": [],
   "source": []
  }
 ],
 "metadata": {
  "kernelspec": {
   "display_name": "Python 3 (ipykernel)",
   "language": "python",
   "name": "python3"
  },
  "language_info": {
   "codemirror_mode": {
    "name": "ipython",
    "version": 3
   },
   "file_extension": ".py",
   "mimetype": "text/x-python",
   "name": "python",
   "nbconvert_exporter": "python",
   "pygments_lexer": "ipython3",
   "version": "3.11.5"
  }
 },
 "nbformat": 4,
 "nbformat_minor": 5
}
