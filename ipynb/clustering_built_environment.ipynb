{
 "cells": [
  {
   "cell_type": "code",
   "execution_count": 1,
   "id": "7aff4ef8-8fec-4bbd-a3bf-ba4cbafcf569",
   "metadata": {},
   "outputs": [],
   "source": [
    "import pandas as pd\n",
    "import geopandas as gpd\n",
    "import numpy as np\n",
    "import matplotlib.pyplot as plt"
   ]
  },
  {
   "cell_type": "markdown",
   "id": "6790de45-ee21-4082-8641-94b2972b37c3",
   "metadata": {},
   "source": [
    "### Clustering Analysis of Built Environment"
   ]
  },
  {
   "cell_type": "code",
   "execution_count": 2,
   "id": "44073a16-a275-42fb-b995-e66db5e74633",
   "metadata": {},
   "outputs": [],
   "source": [
    "tracts_with_features_nyc_gdf = gpd.read_file('./data/tracts_with_features_nyc.geojson', driver='GeoJSON')\n",
    "tracts_with_features_upstate_gdf = gpd.read_file('./data/tracts_with_features_upstate.geojson', driver='GeoJSON')"
   ]
  },
  {
   "cell_type": "code",
   "execution_count": null,
   "id": "6d39c7d1-9993-4d35-b40b-138b700b2956",
   "metadata": {},
   "outputs": [],
   "source": [
    "# Select features for K-means clustering"
   ]
  }
 ],
 "metadata": {
  "kernelspec": {
   "display_name": "Python 3 (ipykernel)",
   "language": "python",
   "name": "python3"
  },
  "language_info": {
   "codemirror_mode": {
    "name": "ipython",
    "version": 3
   },
   "file_extension": ".py",
   "mimetype": "text/x-python",
   "name": "python",
   "nbconvert_exporter": "python",
   "pygments_lexer": "ipython3",
   "version": "3.11.5"
  }
 },
 "nbformat": 4,
 "nbformat_minor": 5
}
