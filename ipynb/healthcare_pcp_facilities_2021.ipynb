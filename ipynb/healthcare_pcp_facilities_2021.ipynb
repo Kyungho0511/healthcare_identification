{
 "cells": [
  {
   "cell_type": "code",
   "execution_count": 8,
   "id": "6f5fbf08-597a-405f-8341-9379f2d13d6b",
   "metadata": {},
   "outputs": [],
   "source": [
    "import pandas as pd\n",
    "import geopandas as gpd\n",
    "import numpy as np"
   ]
  },
  {
   "cell_type": "markdown",
   "id": "19bea47b-98fa-4aea-bf03-ef2a97b3e080",
   "metadata": {},
   "source": [
    "### Preprocess Individual PCP (primary care providers) data"
   ]
  },
  {
   "cell_type": "code",
   "execution_count": 9,
   "id": "2da32c1d-6ce1-4e5c-a6fb-5ec1f27e57c9",
   "metadata": {},
   "outputs": [],
   "source": [
    "pcp_medicaid_df = pd.read_csv('./data/pcp_medicaid_2021.csv')\n",
    "pcp_commercial_df = pd.read_csv('./data/pcp_commercial_2021.csv')"
   ]
  },
  {
   "cell_type": "code",
   "execution_count": 10,
   "id": "c1114bfb-6a26-48fa-8459-7432988fa396",
   "metadata": {},
   "outputs": [
    {
     "name": "stdout",
     "output_type": "stream",
     "text": [
      "pcp_medicaid:  (16502, 16)\n",
      "pcp_commercial:  (37456, 16)\n",
      "pcp:  (53958, 16)\n",
      "pcp_culled:  (45694, 8)\n"
     ]
    }
   ],
   "source": [
    "# Cull duplicate providers baased on unique combination of values in 'Name' and 'Street Address'\n",
    "pcp_medicaid_df = pcp_medicaid_df.drop_duplicates(subset=['National Provider Identifier'])\n",
    "pcp_commercial_df = pcp_commercial_df.drop_duplicates(subset=['National Provider Identifier'])\n",
    "\n",
    "# Filter providers within the following 32 counties in NY State\n",
    "counties_to_keep = ['Albany', 'Cayuga', 'Chautauqua', 'Cortland', 'Erie', 'Genesee', 'Greene', 'Hamilton', 'Lewis', 'Montgomery', 'New York', 'Kings', 'Bronx', 'Queens', 'Richmond', 'Oneida', 'Onondaga', 'Ontario', 'Orange', 'Oswego', 'Putnam', 'Rensselaer', 'Rockland', 'Schuyler', 'St Lawrence', 'Steuben', 'Sullivan', 'Tioga', 'Tompkins', 'Ulster', 'Warren', 'Westchester']\n",
    "pcp_medicaid_df = pcp_medicaid_df[pcp_medicaid_df['County'].isin(counties_to_keep)]\n",
    "pcp_commercial_df = pcp_commercial_df[pcp_commercial_df['County'].isin(counties_to_keep)]\n",
    "\n",
    "# Add 'Medicaid Indicator' column for provider datasets\n",
    "pcp_medicaid_df['Medicaid Indicator'] = 1\n",
    "pcp_medicaid_df['Commercial Indicator'] = 0\n",
    "pcp_commercial_df['Medicaid Indicator'] = 0\n",
    "pcp_commercial_df['Commercial Indicator'] = 1\n",
    "print('pcp_medicaid: ', pcp_medicaid_df.shape)\n",
    "print('pcp_commercial: ', pcp_commercial_df.shape)\n",
    "\n",
    "# Combine the two DataFrames by appending rows\n",
    "pcp_df = pd.concat([pcp_medicaid_df, pcp_commercial_df], ignore_index=True)\n",
    "print('pcp: ', pcp_df.shape)\n",
    "\n",
    "# Add up 'Medicaid Indicator' value for duplicate providers based on combination of values in the follwing columns, while culling them.\n",
    "pcp_df = pcp_df.groupby(['First Name', 'Last Name', 'Street Address', 'County', 'Latitude', 'Longitude']).agg({'Medicaid Indicator': 'sum', 'Commercial Indicator': 'sum'}).reset_index()\n",
    "pcp_df = pcp_df.dropna()\n",
    "print('pcp_culled: ', pcp_df.shape)"
   ]
  },
  {
   "cell_type": "code",
   "execution_count": 12,
   "id": "387a48b2-4b59-48ae-a0fa-f9543beb3587",
   "metadata": {},
   "outputs": [],
   "source": [
    "pcp_df.to_csv('pcp_individual_2021.csv', index=False)"
   ]
  },
  {
   "cell_type": "markdown",
   "id": "e281613e-06c2-43a9-b1fd-1187ddff5ad2",
   "metadata": {},
   "source": [
    "### Prepare Facility PCP from the Individual PCP"
   ]
  },
  {
   "cell_type": "code",
   "execution_count": 13,
   "id": "6bc55546-3e6c-4b42-9cb0-09394a8130aa",
   "metadata": {},
   "outputs": [
    {
     "name": "stdout",
     "output_type": "stream",
     "text": [
      "(7495, 5)\n",
      "       Latitude  Longitude       County  pcp_medicaid  pcp_commercial\n",
      "5337  41.153336 -73.826162  Westchester             0               5\n",
      "5559  41.377205 -74.692792       Orange             1               0\n",
      "5425  41.213844 -73.986108     Rockland             1               2\n",
      "4107  40.813776 -73.944498     New York             0               1\n",
      "1611  40.682767 -73.966560        Kings             8               5\n",
      "2977  40.747293 -73.986209     New York             1               1\n",
      "4249  40.830002 -73.910667        Bronx             3               4\n",
      "5808  41.802662 -74.747406     Sullivan             0               1\n",
      "1221  40.645678 -73.958248        Kings             4               7\n",
      "521   40.608373 -74.004194        Kings             2               2\n",
      "1948  40.703194 -73.814920       Queens             0               1\n",
      "1448  40.669877 -73.908512        Kings             0               1\n",
      "1848  40.697536 -73.993285        Kings             5               1\n",
      "2010  40.706434 -73.802236       Queens             0               1\n",
      "2705  40.737465 -73.997453     New York             4               9\n",
      "18    40.531899 -74.156533     Richmond             1               0\n",
      "6857  42.963424 -78.712085         Erie             1               1\n",
      "3742  40.773416 -73.946080     New York             2               0\n",
      "6398  42.734305 -73.671364   Rensselaer             1              11\n",
      "6034  42.231184 -73.876736       Greene             3               2\n"
     ]
    }
   ],
   "source": [
    "# Group by 'Latitude' and 'Longitude', and sum 'Medicaid Indicator' and 'Commercial Indicator' separately\n",
    "pcp_facilities_df = pcp_df.groupby(['Latitude', 'Longitude', 'County']).agg(\n",
    "    pcp_medicaid=('Medicaid Indicator', 'sum'),\n",
    "    pcp_commercial=('Commercial Indicator', 'sum')\n",
    ").reset_index()\n",
    "\n",
    "print(pcp_facilities_df.shape)\n",
    "print(pcp_facilities_df.sample(20))"
   ]
  },
  {
   "cell_type": "code",
   "execution_count": 14,
   "id": "e3f49456-df11-42b9-8d4e-47d7ed25b656",
   "metadata": {},
   "outputs": [],
   "source": [
    "pcp_facilities_df.to_csv('pcp_facilities_2021.csv', index=False)"
   ]
  },
  {
   "cell_type": "code",
   "execution_count": null,
   "id": "21494a5a-4510-4eee-aa38-4a8dbc083214",
   "metadata": {},
   "outputs": [],
   "source": []
  }
 ],
 "metadata": {
  "kernelspec": {
   "display_name": "Python 3 (ipykernel)",
   "language": "python",
   "name": "python3"
  },
  "language_info": {
   "codemirror_mode": {
    "name": "ipython",
    "version": 3
   },
   "file_extension": ".py",
   "mimetype": "text/x-python",
   "name": "python",
   "nbconvert_exporter": "python",
   "pygments_lexer": "ipython3",
   "version": "3.11.5"
  }
 },
 "nbformat": 4,
 "nbformat_minor": 5
}
