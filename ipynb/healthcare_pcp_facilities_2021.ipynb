{
 "cells": [
  {
   "cell_type": "code",
   "execution_count": 1,
   "id": "6f5fbf08-597a-405f-8341-9379f2d13d6b",
   "metadata": {},
   "outputs": [],
   "source": [
    "import pandas as pd\n",
    "import geopandas as gpd\n",
    "import numpy as np"
   ]
  },
  {
   "cell_type": "markdown",
   "id": "19bea47b-98fa-4aea-bf03-ef2a97b3e080",
   "metadata": {},
   "source": [
    "### Preprocess Individual PCP (primary care providers) data"
   ]
  },
  {
   "cell_type": "code",
   "execution_count": 44,
   "id": "2da32c1d-6ce1-4e5c-a6fb-5ec1f27e57c9",
   "metadata": {},
   "outputs": [],
   "source": [
    "pcp_medicaid_df = pd.read_csv('./data/pcp_medicaid_2021.csv')\n",
    "pcp_commercial_df = pd.read_csv('./data/pcp_commercial_2021.csv')"
   ]
  },
  {
   "cell_type": "code",
   "execution_count": 52,
   "id": "c1114bfb-6a26-48fa-8459-7432988fa396",
   "metadata": {},
   "outputs": [
    {
     "name": "stdout",
     "output_type": "stream",
     "text": [
      "pcp_medicaid:  (42991, 15)\n",
      "pcp_commercial:  (142005, 15)\n",
      "pcp:  (184996, 15)\n",
      "pcp_culled:  (146955, 8)\n",
      "       First Name  Last Name                Street Address       County  \\\n",
      "131847      STEVE       PAIK                 55 PALMER AVE  Westchester   \n",
      "121949      SAMIN     SHARMA           1 GUSTAVE L LEVY PL     New York   \n",
      "70093       KAREN       TEOH  2111 FREDERICK DOUGLASS BLVD     New York   \n",
      "51590    HUI HING        TIN                  6317 4TH AVE        Kings   \n",
      "66252      JOSEPH    MAILMAN        525 E 68TH ST MICU-5 S     New York   \n",
      "46686         GIL    FARKASH            1185 SWEET HOME RD         Erie   \n",
      "136089      TANYA   SHNEYDER               3414 CHURCH AVE        Kings   \n",
      "21263     CASSIDY       DAHN                   150 55TH ST        Kings   \n",
      "13236      ARTHUR      TOLIS                 61 EMERALD PL     Sullivan   \n",
      "100187       NANA  MAKALATIA              4781/83 BROADWAY     New York   \n",
      "\n",
      "         Latitude  Longitude  Medicaid Indicator  Commercial Indicator  \n",
      "131847  40.941721 -73.836611                   0                     1  \n",
      "121949  40.790521 -73.953634                   0                     1  \n",
      "70093   40.803388 -73.956330                   1                     1  \n",
      "51590   40.638918 -74.020101                   0                     1  \n",
      "66252   40.768924 -73.967491                   0                     1  \n",
      "46686   42.995375 -78.801151                   0                     1  \n",
      "136089  40.650888 -73.945424                   0                     1  \n",
      "21263   40.647196 -74.021596                   0                     1  \n",
      "13236   41.623625 -74.585681                   0                     1  \n",
      "100187  40.866685 -73.923999                   1                     0  \n"
     ]
    }
   ],
   "source": [
    "# Cull duplicate providers baased on unique combination of values in 'Name' and 'Street Address'\n",
    "pcp_medicaid_df = pcp_medicaid_df.drop_duplicates(subset=['First Name', 'Last Name', 'Street Address'])\n",
    "pcp_commercial_df = pcp_commercial_df.drop_duplicates(subset=['First Name', 'Last Name', 'Street Address'])\n",
    "\n",
    "# Filter providers within the following 32 counties in NY State\n",
    "counties_to_keep = ['Albany', 'Cayuga', 'Chautauqua', 'Cortland', 'Erie', 'Genesee', 'Greene', 'Hamilton', 'Lewis', 'Montgomery', 'New York', 'Kings', 'Bronx', 'Queens', 'Richmond', 'Oneida', 'Onondaga', 'Ontario', 'Orange', 'Oswego', 'Putnam', 'Rensselaer', 'Rockland', 'Schuyler', 'St Lawrence', 'Steuben', 'Sullivan', 'Tioga', 'Tompkins', 'Ulster', 'Warren', 'Westchester']\n",
    "pcp_medicaid_df = pcp_medicaid_df[pcp_medicaid_df['County'].isin(counties_to_keep)]\n",
    "pcp_commercial_df = pcp_commercial_df[pcp_commercial_df['County'].isin(counties_to_keep)]\n",
    "\n",
    "# Add 'Medicaid Indicator' column for provider datasets\n",
    "pcp_medicaid_df['Medicaid Indicator'] = 1\n",
    "pcp_medicaid_df['Commercial Indicator'] = 0\n",
    "pcp_commercial_df['Medicaid Indicator'] = 0\n",
    "pcp_commercial_df['Commercial Indicator'] = 1\n",
    "print('pcp_medicaid: ', pcp_medicaid_df.shape)\n",
    "print('pcp_commercial: ', pcp_commercial_df.shape)\n",
    "\n",
    "# Combine the two DataFrames by appending rows\n",
    "pcp_df = pd.concat([pcp_medicaid_df, pcp_commercial_df], ignore_index=True)\n",
    "print('pcp: ', pcp_df.shape)\n",
    "\n",
    "# Add up 'Medicaid Indicator' value for duplicate providers based on combination of values in the follwing columns, while culling them.\n",
    "pcp_df = pcp_df.groupby(['First Name', 'Last Name', 'Street Address', 'County', 'Latitude', 'Longitude']).agg({'Medicaid Indicator': 'sum', 'Commercial Indicator': 'sum'}).reset_index()\n",
    "pcp_df = pcp_df.dropna()\n",
    "print('pcp_culled: ', pcp_df.shape)\n",
    "print(pcp_df.sample(10))"
   ]
  },
  {
   "cell_type": "code",
   "execution_count": 53,
   "id": "387a48b2-4b59-48ae-a0fa-f9543beb3587",
   "metadata": {},
   "outputs": [],
   "source": [
    "pcp_df.to_csv('pcp_individual_2021.csv', index=False)"
   ]
  },
  {
   "cell_type": "markdown",
   "id": "e281613e-06c2-43a9-b1fd-1187ddff5ad2",
   "metadata": {},
   "source": [
    "### Prepare Facility PCP from the Individual PCP"
   ]
  },
  {
   "cell_type": "code",
   "execution_count": 55,
   "id": "6bc55546-3e6c-4b42-9cb0-09394a8130aa",
   "metadata": {},
   "outputs": [
    {
     "name": "stdout",
     "output_type": "stream",
     "text": [
      "(13181, 5)\n",
      "        Latitude  Longitude    County  pcp_medicaid  pcp_commercial\n",
      "12122  42.962230 -78.711617      Erie             4              11\n",
      "12902  43.251203 -75.177848    Oneida             1               2\n",
      "3364   40.702676 -73.990859     Kings             1               0\n",
      "1645   40.634008 -73.989349     Kings             0               1\n",
      "1844   40.638339 -74.007862     Kings             3               5\n",
      "736    40.601766 -74.089958  Richmond             0               1\n",
      "12967  43.322751 -73.640727    Warren             0               2\n",
      "3061   40.692800 -73.987974     Kings             0               1\n",
      "10936  42.472994 -76.451296  Tompkins             1               1\n",
      "4392   40.728964 -73.951214     Kings             1               1\n",
      "12856  43.210724 -75.457852    Oneida             2              22\n",
      "1324   40.622539 -74.016082     Kings             0               1\n",
      "11989  42.939403 -78.872547      Erie             0               1\n",
      "10488  41.926159 -73.994088    Ulster            15              38\n",
      "106    40.554125 -74.144948  Richmond             0               1\n",
      "5011   40.742585 -73.991675  New York            12              13\n",
      "2748   40.680526 -73.940261     Kings             0               2\n",
      "7022   40.781082 -73.956868  New York             0               1\n",
      "11612  42.839831 -78.772876      Erie             1               6\n",
      "1037   40.611532 -73.949601     Kings             0               1\n"
     ]
    }
   ],
   "source": [
    "# Group by 'Latitude' and 'Longitude', and sum 'Medicaid Indicator' and 'Commercial Indicator' separately\n",
    "pcp_facilities_df = pcp_df.groupby(['Latitude', 'Longitude', 'County']).agg(\n",
    "    pcp_medicaid=('Medicaid Indicator', 'sum'),\n",
    "    pcp_commercial=('Commercial Indicator', 'sum')\n",
    ").reset_index()\n",
    "\n",
    "print(pcp_facilities_df.shape)\n",
    "print(pcp_facilities_df.sample(20))"
   ]
  },
  {
   "cell_type": "code",
   "execution_count": 56,
   "id": "e3f49456-df11-42b9-8d4e-47d7ed25b656",
   "metadata": {},
   "outputs": [],
   "source": [
    "pcp_facilities_df.to_csv('pcp_facilities_2021.csv', index=False)"
   ]
  },
  {
   "cell_type": "code",
   "execution_count": null,
   "id": "21494a5a-4510-4eee-aa38-4a8dbc083214",
   "metadata": {},
   "outputs": [],
   "source": []
  }
 ],
 "metadata": {
  "kernelspec": {
   "display_name": "Python 3 (ipykernel)",
   "language": "python",
   "name": "python3"
  },
  "language_info": {
   "codemirror_mode": {
    "name": "ipython",
    "version": 3
   },
   "file_extension": ".py",
   "mimetype": "text/x-python",
   "name": "python",
   "nbconvert_exporter": "python",
   "pygments_lexer": "ipython3",
   "version": "3.11.5"
  }
 },
 "nbformat": 4,
 "nbformat_minor": 5
}
