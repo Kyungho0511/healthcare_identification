{
 "cells": [
  {
   "cell_type": "code",
   "execution_count": 1,
   "id": "97ed5c66",
   "metadata": {},
   "outputs": [],
   "source": [
    "import pandas as pd\n",
    "import geopandas as gpd\n",
    "import numpy as np"
   ]
  },
  {
   "cell_type": "code",
   "execution_count": 3,
   "id": "8f35fe76",
   "metadata": {},
   "outputs": [],
   "source": [
    "places_df = pd.read_csv('./data/PLACES__Local_Data_for_Better_Health__Census_Tract_Data_2023_release_20240314.csv')"
   ]
  },
  {
   "cell_type": "code",
   "execution_count": 40,
   "id": "1edae9fc-93ae-4a9e-879f-3ad5be7e0543",
   "metadata": {},
   "outputs": [
    {
     "name": "stdout",
     "output_type": "stream",
     "text": [
      "(126765, 23)\n"
     ]
    }
   ],
   "source": [
    "# Filter 32 counties in NY state\n",
    "counties_to_keep = ['013', '029', '037', '069', '101', '097', '109', '107', '023', '011', '067', '075', '065', '049', '089', '041', '113', '057', '083', '001', '039', '111', '105', '071', '087', '079', '119', '005', '061', '081', '047', '085']\n",
    "for index, county in enumerate(counties_to_keep):\n",
    "    counties_to_keep[index] = int('36' + county)\n",
    "\n",
    "filtered_places_df = places_df[places_df['CountyFIPS'].isin(counties_to_keep)]\n",
    "print(filtered_places_df.shape)"
   ]
  },
  {
   "cell_type": "code",
   "execution_count": 42,
   "id": "b235ee9e-a579-4269-83ae-7445a6a41ff3",
   "metadata": {},
   "outputs": [
    {
     "name": "stdout",
     "output_type": "stream",
     "text": [
      "(44523, 23)\n"
     ]
    }
   ],
   "source": [
    "categories_to_keep = [\"Health Status\", \"Prevention\"]\n",
    "filtered_places_df = filtered_places_df[filtered_places_df['Category'].isin(categories_to_keep)]\n",
    "print(filtered_places_df.shape)"
   ]
  },
  {
   "cell_type": "code",
   "execution_count": 50,
   "id": "7b5954fb-894d-4e6d-9627-249c095d2829",
   "metadata": {},
   "outputs": [
    {
     "name": "stdout",
     "output_type": "stream",
     "text": [
      "(3427, 7)\n"
     ]
    }
   ],
   "source": [
    "places_by_location_df = filtered_places_df.pivot_table(index=\"LocationID\", columns=\"Measure\", values=\"Data_Value\", aggfunc='first')\n",
    "places_by_location_df.reset_index(inplace=True)\n",
    "\n",
    "columns_to_keep = ['LocationID', 'Cholesterol screening among adults aged >=18 years', 'Current lack of health insurance among adults aged 18-64 years', 'Taking medicine for high blood pressure control among adults aged >=18 years with high blood pressure', 'Visits to dentist or dental clinic among adults aged >=18 years', 'Visits to doctor for routine checkup within the past year among adults aged >=18 years', 'Physical health not good for >=14 days among adults aged >=18 years']\n",
    "places_by_location_df = places_by_location_df[columns_to_keep]\n",
    "print(places_by_location_df.shape)"
   ]
  },
  {
   "cell_type": "code",
   "execution_count": 51,
   "id": "67779da9",
   "metadata": {},
   "outputs": [],
   "source": [
    "# export to csv files\n",
    "places_by_location_df.to_csv('places_by_location_2023.csv', index=False)"
   ]
  },
  {
   "cell_type": "code",
   "execution_count": null,
   "id": "896b5597-955b-42e4-8f7f-f7c45c103ece",
   "metadata": {},
   "outputs": [],
   "source": []
  }
 ],
 "metadata": {
  "kernelspec": {
   "display_name": "Python 3 (ipykernel)",
   "language": "python",
   "name": "python3"
  },
  "language_info": {
   "codemirror_mode": {
    "name": "ipython",
    "version": 3
   },
   "file_extension": ".py",
   "mimetype": "text/x-python",
   "name": "python",
   "nbconvert_exporter": "python",
   "pygments_lexer": "ipython3",
   "version": "3.11.5"
  }
 },
 "nbformat": 4,
 "nbformat_minor": 5
}
