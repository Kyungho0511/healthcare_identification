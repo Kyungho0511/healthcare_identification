{
 "cells": [
  {
   "cell_type": "code",
   "execution_count": 1,
   "id": "97ed5c66",
   "metadata": {},
   "outputs": [],
   "source": [
    "import pandas as pd\n",
    "import geopandas as gpd\n",
    "import numpy as np"
   ]
  },
  {
   "cell_type": "code",
   "execution_count": 12,
   "id": "8f35fe76",
   "metadata": {},
   "outputs": [],
   "source": [
    "places_df = pd.read_csv('./PLACES__Local_Data_for_Better_Health__Census_Tract_Data_2023_release_20240314.csv')"
   ]
  },
  {
   "cell_type": "code",
   "execution_count": 18,
   "id": "3ab4db75",
   "metadata": {},
   "outputs": [
    {
     "name": "stdout",
     "output_type": "stream",
     "text": [
      "(22713, 23)\n"
     ]
    }
   ],
   "source": [
    "places_filter = (places_df[\"CountyName\"] == \"Bronx\") | (places_df[\"CountyName\"] == \"New York\")\n",
    "places_filter_df = places_df[places_filter]\n",
    "print(places_filter_df.shape)"
   ]
  },
  {
   "cell_type": "code",
   "execution_count": 19,
   "id": "67779da9",
   "metadata": {},
   "outputs": [],
   "source": [
    "# export to csv files\n",
    "file_path = './outputs/'\n",
    "places_filter_df.to_csv(file_path + 'places_filter_2023.csv', index=False)"
   ]
  }
 ],
 "metadata": {
  "kernelspec": {
   "display_name": "Python 3 (ipykernel)",
   "language": "python",
   "name": "python3"
  },
  "language_info": {
   "codemirror_mode": {
    "name": "ipython",
    "version": 3
   },
   "file_extension": ".py",
   "mimetype": "text/x-python",
   "name": "python",
   "nbconvert_exporter": "python",
   "pygments_lexer": "ipython3",
   "version": "3.10.11"
  }
 },
 "nbformat": 4,
 "nbformat_minor": 5
}
