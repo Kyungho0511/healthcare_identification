{
 "cells": [
  {
   "cell_type": "code",
   "execution_count": 73,
   "id": "97ed5c66",
   "metadata": {},
   "outputs": [],
   "source": [
    "import pandas as pd\n",
    "import geopandas as gpd\n",
    "import numpy as np"
   ]
  },
  {
   "cell_type": "code",
   "execution_count": 74,
   "id": "8f35fe76",
   "metadata": {},
   "outputs": [],
   "source": [
    "places_df = pd.read_csv('./data/PLACES__Local_Data_for_Better_Health__Census_Tract_Data_2023_release_20240314.csv')"
   ]
  },
  {
   "cell_type": "code",
   "execution_count": 75,
   "id": "b235ee9e-a579-4269-83ae-7445a6a41ff3",
   "metadata": {},
   "outputs": [
    {
     "name": "stdout",
     "output_type": "stream",
     "text": [
      "(1187607, 23)\n"
     ]
    }
   ],
   "source": [
    "categories_to_keep = [\"Health Status\", \"Prevention\", \"Health Risk Behaviors\"]\n",
    "filtered_places_df = places_df[places_df['Category'].isin(categories_to_keep)]\n",
    "print(filtered_places_df.shape)"
   ]
  },
  {
   "cell_type": "code",
   "execution_count": 78,
   "id": "7b5954fb-894d-4e6d-9627-249c095d2829",
   "metadata": {},
   "outputs": [
    {
     "name": "stdout",
     "output_type": "stream",
     "text": [
      "Index(['LocationID', 'No leisure-time physical activity', 'Binge drinking',\n",
      "       'Sleeping less than 7 hours', 'Current smoking',\n",
      "       'Cholesterol screening', 'Current lack of health insurance',\n",
      "       'Taking medicine for high blood pressure control',\n",
      "       'Visits to dentist or dental clinic',\n",
      "       'Visits to doctor for routine checkup within the past',\n",
      "       'Physical health not good for >=14 days',\n",
      "       'Mental health not good for >=14 days',\n",
      "       'Fair or poor self-rated health status'],\n",
      "      dtype='object', name='Measure')\n",
      "(72337, 13)\n"
     ]
    }
   ],
   "source": [
    "places_by_location_df = filtered_places_df.pivot_table(index=\"LocationID\", columns=\"Measure\", values=\"Data_Value\", aggfunc='first')\n",
    "places_by_location_df.reset_index(inplace=True)\n",
    "\n",
    "columns_to_keep = ['LocationID', 'No leisure-time physical activity among adults aged >=18 years', 'Binge drinking among adults aged >=18 years', 'Sleeping less than 7 hours among adults aged >=18 years', 'Current smoking among adults aged >=18 years', 'Cholesterol screening among adults aged >=18 years', 'Current lack of health insurance among adults aged 18-64 years', 'Taking medicine for high blood pressure control among adults aged >=18 years with high blood pressure', 'Visits to dentist or dental clinic among adults aged >=18 years', 'Visits to doctor for routine checkup within the past year among adults aged >=18 years', 'Physical health not good for >=14 days among adults aged >=18 years', 'Mental health not good for >=14 days among adults aged >=18 years', 'Fair or poor self-rated health status among adults aged >=18 years']\n",
    "places_by_location_df = places_by_location_df[columns_to_keep]\n",
    "\n",
    "# Rename places_df columns\n",
    "places_by_location_df = places_by_location_df.rename(columns={'No leisure-time physical activity among adults aged >=18 years': 'No leisure-time physical activity'})\n",
    "places_by_location_df = places_by_location_df.rename(columns={'Binge drinking among adults aged >=18 years': 'Binge drinking'})\n",
    "places_by_location_df = places_by_location_df.rename(columns={'Sleeping less than 7 hours among adults aged >=18 years': 'Sleeping less than 7 hours'})\n",
    "places_by_location_df = places_by_location_df.rename(columns={'Current smoking among adults aged >=18 years': 'Current smoking'})\n",
    "places_by_location_df = places_by_location_df.rename(columns={'Cholesterol screening among adults aged >=18 years': 'Cholesterol screening'})\n",
    "places_by_location_df = places_by_location_df.rename(columns={'Current lack of health insurance among adults aged 18-64 years': 'Current lack of health insurance'})\n",
    "places_by_location_df = places_by_location_df.rename(columns={'Taking medicine for high blood pressure control among adults aged >=18 years with high blood pressure': 'Taking medicine for high blood pressure control'})\n",
    "places_by_location_df = places_by_location_df.rename(columns={'Visits to dentist or dental clinic among adults aged >=18 years': 'Visits to dentist or dental clinic'})\n",
    "places_by_location_df = places_by_location_df.rename(columns={'Visits to doctor for routine checkup within the past year among adults aged >=18 years': 'Visits to doctor for routine checkup within the past'})\n",
    "places_by_location_df = places_by_location_df.rename(columns={'Physical health not good for >=14 days among adults aged >=18 years': 'Physical health not good for >=14 days'})\n",
    "places_by_location_df = places_by_location_df.rename(columns={'Mental health not good for >=14 days among adults aged >=18 years': 'Mental health not good for >=14 days'})\n",
    "places_by_location_df = places_by_location_df.rename(columns={'Fair or poor self-rated health status among adults aged >=18 years': 'Fair or poor self-rated health status'})\n",
    "\n",
    "print(places_by_location_df.columns)\n",
    "print(places_by_location_df.shape)"
   ]
  },
  {
   "cell_type": "code",
   "execution_count": 79,
   "id": "67779da9",
   "metadata": {},
   "outputs": [],
   "source": [
    "# export to csv files\n",
    "places_by_location_df.to_csv('places_by_location_2023.csv', index=False)"
   ]
  }
 ],
 "metadata": {
  "kernelspec": {
   "display_name": "Python 3 (ipykernel)",
   "language": "python",
   "name": "python3"
  },
  "language_info": {
   "codemirror_mode": {
    "name": "ipython",
    "version": 3
   },
   "file_extension": ".py",
   "mimetype": "text/x-python",
   "name": "python",
   "nbconvert_exporter": "python",
   "pygments_lexer": "ipython3",
   "version": "3.11.5"
  }
 },
 "nbformat": 4,
 "nbformat_minor": 5
}
